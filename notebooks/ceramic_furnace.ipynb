{
 "cells": [
  {
   "cell_type": "code",
   "execution_count": 1,
   "id": "6a581f57-835a-4de4-9849-660ccaaf12a9",
   "metadata": {},
   "outputs": [],
   "source": [
    "import numpy as np\n",
    "import scipy\n",
    "import pandas as pd\n",
    "import matplotlib.pyplot as plt"
   ]
  },
  {
   "cell_type": "code",
   "execution_count": 2,
   "id": "3fd3369e-07e3-426c-b4f1-340c6f5507a6",
   "metadata": {},
   "outputs": [],
   "source": [
    "df = pd.read_csv(\"../data/temperature_readings_from_a_ceramic_furnace.csv\")"
   ]
  },
  {
   "cell_type": "code",
   "execution_count": 3,
   "id": "f4efc61a-eccb-48d9-96c8-379932b2a6ea",
   "metadata": {},
   "outputs": [
    {
     "data": {
      "text/html": [
       "<div>\n",
       "<style scoped>\n",
       "    .dataframe tbody tr th:only-of-type {\n",
       "        vertical-align: middle;\n",
       "    }\n",
       "\n",
       "    .dataframe tbody tr th {\n",
       "        vertical-align: top;\n",
       "    }\n",
       "\n",
       "    .dataframe thead th {\n",
       "        text-align: right;\n",
       "    }\n",
       "</style>\n",
       "<table border=\"1\" class=\"dataframe\">\n",
       "  <thead>\n",
       "    <tr style=\"text-align: right;\">\n",
       "      <th></th>\n",
       "      <th>1578.71</th>\n",
       "      <th>1578.79</th>\n",
       "      <th>1579.38</th>\n",
       "      <th>1579.36</th>\n",
       "      <th>1579.83</th>\n",
       "      <th>1580.13</th>\n",
       "      <th>1578.95</th>\n",
       "      <th>1579.18</th>\n",
       "      <th>1579.52</th>\n",
       "      <th>1579.72</th>\n",
       "      <th>...</th>\n",
       "      <th>1580.06.1</th>\n",
       "      <th>1580.12.1</th>\n",
       "      <th>1579.92</th>\n",
       "      <th>1579.57</th>\n",
       "      <th>1579.56.1</th>\n",
       "      <th>1579.40</th>\n",
       "      <th>1578.90</th>\n",
       "      <th>1578.50</th>\n",
       "      <th>1579.30</th>\n",
       "      <th>1579.93</th>\n",
       "    </tr>\n",
       "  </thead>\n",
       "  <tbody>\n",
       "  </tbody>\n",
       "</table>\n",
       "<p>0 rows × 80 columns</p>\n",
       "</div>"
      ],
      "text/plain": [
       "Empty DataFrame\n",
       "Columns: [1578.71,  1578.79,  1579.38,  1579.36,  1579.83,  1580.13,  1578.95,  1579.18,  1579.52,  1579.72,  1580.11,  1580.41,  1580.77,  1580.05,  1579.53,  1579.00,  1579.12,  1579.13,  1579.39,  1579.73,  1580.12,  1580.23,  1580.25,  1579.80,  1579.72.1,  1579.49,  1579.22,  1579.03,  1579.76,  1580.19,  1580.17,  1580.22,  1580.44,  1580.71,  1579.91,  1579.48,  1579.82,  1580.34,  1580.56,  1580.05.1,  1579.63,  1578.82,  1578.59,  1578.56,  1579.56,  1579.46,  1579.59,  1579.66,  1579.89,  1580.03,  1579.76.1,  1579.84,  1580.41.1,  1580.30,  1580.17.1,  1579.81,  1579.71,  1579.77,  1580.16,  1580.38,  1580.18,  1579.59.1,  1580.06,  1581.21,  1580.89,  1580.82,  1580.48,  1579.97,  1579.64,  1580.42,  1580.06.1,  1580.12.1,  1579.92,  1579.57,  1579.56.1,  1579.40,  1578.90,  1578.50,  1579.30,  1579.93]\n",
       "Index: []\n",
       "\n",
       "[0 rows x 80 columns]"
      ]
     },
     "execution_count": 3,
     "metadata": {},
     "output_type": "execute_result"
    }
   ],
   "source": [
    "df.head()"
   ]
  },
  {
   "cell_type": "code",
   "execution_count": null,
   "id": "38da333c-8369-4034-b5fa-106d99ca83b0",
   "metadata": {},
   "outputs": [],
   "source": []
  }
 ],
 "metadata": {
  "kernelspec": {
   "display_name": "Python 3 (ipykernel)",
   "language": "python",
   "name": "python3"
  },
  "language_info": {
   "codemirror_mode": {
    "name": "ipython",
    "version": 3
   },
   "file_extension": ".py",
   "mimetype": "text/x-python",
   "name": "python",
   "nbconvert_exporter": "python",
   "pygments_lexer": "ipython3",
   "version": "3.10.4"
  }
 },
 "nbformat": 4,
 "nbformat_minor": 5
}
