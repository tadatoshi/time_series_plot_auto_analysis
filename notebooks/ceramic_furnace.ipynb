{
 "cells": [
  {
   "cell_type": "code",
   "execution_count": 3,
   "id": "6a581f57-835a-4de4-9849-660ccaaf12a9",
   "metadata": {},
   "outputs": [],
   "source": [
    "import numpy as np\n",
    "import scipy\n",
    "import pandas as pd\n",
    "import matplotlib.pyplot as plt\n",
    "\n",
    "import statsmodels.api as sm\n",
    "import statsmodels.tsa as tsa\n",
    "from statsmodels.tsa.arima.model import ARIMA"
   ]
  },
  {
   "cell_type": "code",
   "execution_count": 4,
   "id": "3fd3369e-07e3-426c-b4f1-340c6f5507a6",
   "metadata": {},
   "outputs": [],
   "source": [
    "df = pd.read_csv(\"../data/temperature_readings_from_a_ceramic_furnace.csv\", header=None)"
   ]
  },
  {
   "cell_type": "code",
   "execution_count": 5,
   "id": "f4efc61a-eccb-48d9-96c8-379932b2a6ea",
   "metadata": {},
   "outputs": [
    {
     "data": {
      "text/html": [
       "<div>\n",
       "<style scoped>\n",
       "    .dataframe tbody tr th:only-of-type {\n",
       "        vertical-align: middle;\n",
       "    }\n",
       "\n",
       "    .dataframe tbody tr th {\n",
       "        vertical-align: top;\n",
       "    }\n",
       "\n",
       "    .dataframe thead th {\n",
       "        text-align: right;\n",
       "    }\n",
       "</style>\n",
       "<table border=\"1\" class=\"dataframe\">\n",
       "  <thead>\n",
       "    <tr style=\"text-align: right;\">\n",
       "      <th></th>\n",
       "      <th>0</th>\n",
       "    </tr>\n",
       "  </thead>\n",
       "  <tbody>\n",
       "    <tr>\n",
       "      <th>0</th>\n",
       "      <td>1578.71</td>\n",
       "    </tr>\n",
       "    <tr>\n",
       "      <th>1</th>\n",
       "      <td>1578.79</td>\n",
       "    </tr>\n",
       "    <tr>\n",
       "      <th>2</th>\n",
       "      <td>1579.38</td>\n",
       "    </tr>\n",
       "    <tr>\n",
       "      <th>3</th>\n",
       "      <td>1579.36</td>\n",
       "    </tr>\n",
       "    <tr>\n",
       "      <th>4</th>\n",
       "      <td>1579.83</td>\n",
       "    </tr>\n",
       "  </tbody>\n",
       "</table>\n",
       "</div>"
      ],
      "text/plain": [
       "         0\n",
       "0  1578.71\n",
       "1  1578.79\n",
       "2  1579.38\n",
       "3  1579.36\n",
       "4  1579.83"
      ]
     },
     "execution_count": 5,
     "metadata": {},
     "output_type": "execute_result"
    }
   ],
   "source": [
    "df.head()"
   ]
  },
  {
   "cell_type": "code",
   "execution_count": 6,
   "id": "38da333c-8369-4034-b5fa-106d99ca83b0",
   "metadata": {},
   "outputs": [
    {
     "data": {
      "text/plain": [
       "pandas.core.frame.DataFrame"
      ]
     },
     "execution_count": 6,
     "metadata": {},
     "output_type": "execute_result"
    }
   ],
   "source": [
    "type(df)"
   ]
  },
  {
   "cell_type": "code",
   "execution_count": 7,
   "id": "2407a329-a155-40ed-979d-8d29af1793f9",
   "metadata": {},
   "outputs": [
    {
     "data": {
      "text/plain": [
       "0    float64\n",
       "dtype: object"
      ]
     },
     "execution_count": 7,
     "metadata": {},
     "output_type": "execute_result"
    }
   ],
   "source": [
    "df.dtypes"
   ]
  },
  {
   "cell_type": "code",
   "execution_count": 8,
   "id": "f149d860-97e6-4a63-b44a-b36933d9361d",
   "metadata": {},
   "outputs": [],
   "source": [
    "df.rename(columns={0: 'temperature'}, inplace=True)"
   ]
  },
  {
   "cell_type": "code",
   "execution_count": 9,
   "id": "3238ae87-242a-4f55-af9c-e9b9074119bc",
   "metadata": {},
   "outputs": [
    {
     "data": {
      "text/html": [
       "<div>\n",
       "<style scoped>\n",
       "    .dataframe tbody tr th:only-of-type {\n",
       "        vertical-align: middle;\n",
       "    }\n",
       "\n",
       "    .dataframe tbody tr th {\n",
       "        vertical-align: top;\n",
       "    }\n",
       "\n",
       "    .dataframe thead th {\n",
       "        text-align: right;\n",
       "    }\n",
       "</style>\n",
       "<table border=\"1\" class=\"dataframe\">\n",
       "  <thead>\n",
       "    <tr style=\"text-align: right;\">\n",
       "      <th></th>\n",
       "      <th>temperature</th>\n",
       "    </tr>\n",
       "  </thead>\n",
       "  <tbody>\n",
       "    <tr>\n",
       "      <th>0</th>\n",
       "      <td>1578.71</td>\n",
       "    </tr>\n",
       "    <tr>\n",
       "      <th>1</th>\n",
       "      <td>1578.79</td>\n",
       "    </tr>\n",
       "    <tr>\n",
       "      <th>2</th>\n",
       "      <td>1579.38</td>\n",
       "    </tr>\n",
       "    <tr>\n",
       "      <th>3</th>\n",
       "      <td>1579.36</td>\n",
       "    </tr>\n",
       "    <tr>\n",
       "      <th>4</th>\n",
       "      <td>1579.83</td>\n",
       "    </tr>\n",
       "    <tr>\n",
       "      <th>...</th>\n",
       "      <td>...</td>\n",
       "    </tr>\n",
       "    <tr>\n",
       "      <th>75</th>\n",
       "      <td>1579.40</td>\n",
       "    </tr>\n",
       "    <tr>\n",
       "      <th>76</th>\n",
       "      <td>1578.90</td>\n",
       "    </tr>\n",
       "    <tr>\n",
       "      <th>77</th>\n",
       "      <td>1578.50</td>\n",
       "    </tr>\n",
       "    <tr>\n",
       "      <th>78</th>\n",
       "      <td>1579.30</td>\n",
       "    </tr>\n",
       "    <tr>\n",
       "      <th>79</th>\n",
       "      <td>1579.93</td>\n",
       "    </tr>\n",
       "  </tbody>\n",
       "</table>\n",
       "<p>80 rows × 1 columns</p>\n",
       "</div>"
      ],
      "text/plain": [
       "    temperature\n",
       "0       1578.71\n",
       "1       1578.79\n",
       "2       1579.38\n",
       "3       1579.36\n",
       "4       1579.83\n",
       "..          ...\n",
       "75      1579.40\n",
       "76      1578.90\n",
       "77      1578.50\n",
       "78      1579.30\n",
       "79      1579.93\n",
       "\n",
       "[80 rows x 1 columns]"
      ]
     },
     "execution_count": 9,
     "metadata": {},
     "output_type": "execute_result"
    }
   ],
   "source": [
    "df"
   ]
  },
  {
   "cell_type": "code",
   "execution_count": 10,
   "id": "e87a4933-9c5d-48bd-abea-42b4df87040f",
   "metadata": {},
   "outputs": [
    {
     "data": {
      "text/plain": [
       "<AxesSubplot:xlabel='Time', ylabel='Temperature'>"
      ]
     },
     "execution_count": 10,
     "metadata": {},
     "output_type": "execute_result"
    },
    {
     "data": {
      "image/png": "[encoded data removed]",
      "text/plain": [
       "<Figure size 432x288 with 1 Axes>"
      ]
     },
     "metadata": {
      "needs_background": "light"
     },
     "output_type": "display_data"
    }
   ],
   "source": [
    "df.plot(marker='o', xlabel='Time', ylabel='Temperature')"
   ]
  },
  {
   "cell_type": "markdown",
   "id": "9790bbbd-9299-4893-ab18-763a242cb7e3",
   "metadata": {},
   "source": [
    "## Time Series Analysis"
   ]
  },
  {
   "cell_type": "code",
   "execution_count": 11,
   "id": "b9c7768a-d2fa-476a-999a-ce92fdf7ef50",
   "metadata": {},
   "outputs": [
    {
     "name": "stderr",
     "output_type": "stream",
     "text": [
      "/Users/tadatoshi/.pyenv/versions/3.10.4/Library/Frameworks/Python.framework/Versions/3.10/lib/python3.10/site-packages/statsmodels/graphics/tsaplots.py:348: FutureWarning: The default method 'yw' can produce PACF values outside of the [-1,1] interval. After 0.13, the default will change tounadjusted Yule-Walker ('ywm'). You can use this method now by setting method='ywm'.\n",
      "  warnings.warn(\n"
     ]
    },
    {
     "data": {
      "image/png": "[encoded data removed]",
      "text/plain": [
       "<Figure size 864x576 with 2 Axes>"
      ]
     },
     "metadata": {
      "needs_background": "light"
     },
     "output_type": "display_data"
    }
   ],
   "source": [
    "fig = plt.figure(figsize=(12, 8))\n",
    "ax1 = fig.add_subplot(211)\n",
    "_ = sm.graphics.tsa.plot_acf(df, lags=20, ax=ax1)\n",
    "ax2 = fig.add_subplot(212)\n",
    "_ = sm.graphics.tsa.plot_pacf(df, lags=20, ax=ax2)"
   ]
  },
  {
   "cell_type": "code",
   "execution_count": 12,
   "id": "7a6a7fdd-746f-4c1e-8e9c-a4ba9ff225a5",
   "metadata": {},
   "outputs": [],
   "source": [
    "acf, acf_confint, acf_qstat, acf_pvalues = tsa.stattools.acf(df, nlags=20, qstat=True, alpha=0.5)"
   ]
  },
  {
   "cell_type": "code",
   "execution_count": 13,
   "id": "d4408792-c32d-4adb-a9ba-c364290c78c3",
   "metadata": {},
   "outputs": [
    {
     "data": {
      "text/plain": [
       "array([ 1.00000000e+00,  6.93487925e-01,  3.05606286e-01,  5.81583754e-02,\n",
       "       -6.41291075e-02, -8.19154190e-02, -9.91469918e-03,  2.16463974e-02,\n",
       "        2.07121567e-02, -7.60448364e-03, -7.53367300e-02, -1.36783565e-01,\n",
       "       -1.90096234e-01, -1.89840864e-01, -1.15706522e-01, -8.15764343e-04,\n",
       "        5.39126821e-02,  1.05724542e-02, -3.24777154e-02, -2.37372110e-02,\n",
       "       -5.27815431e-02])"
      ]
     },
     "execution_count": 13,
     "metadata": {},
     "output_type": "execute_result"
    }
   ],
   "source": [
    "acf"
   ]
  },
  {
   "cell_type": "code",
   "execution_count": 14,
   "id": "943cd354-71be-4622-a6be-199eaba7da23",
   "metadata": {},
   "outputs": [
    {
     "data": {
      "text/plain": [
       "array([[ 1.00000000e+00,  1.00000000e+00],\n",
       "       [ 6.18077679e-01,  7.68898172e-01],\n",
       "       [ 1.99982101e-01,  4.11230472e-01],\n",
       "       [-5.23798102e-02,  1.68696561e-01],\n",
       "       [-1.74841166e-01,  4.65829509e-02],\n",
       "       [-1.92838516e-01,  2.90076782e-02],\n",
       "       [-1.21181274e-01,  1.01351875e-01],\n",
       "       [-8.96252012e-02,  1.32917996e-01],\n",
       "       [-9.05833861e-02,  1.32007699e-01],\n",
       "       [-1.18921944e-01,  1.03712977e-01],\n",
       "       [-1.86657144e-01,  3.59836844e-02],\n",
       "       [-2.48393537e-01, -2.51735929e-02],\n",
       "       [-3.02655461e-01, -7.75370079e-02],\n",
       "       [-3.04211208e-01, -7.54705201e-02],\n",
       "       [-2.31854997e-01,  4.41952977e-04],\n",
       "       [-1.17617885e-01,  1.15986357e-01],\n",
       "       [-6.28894712e-02,  1.70714835e-01],\n",
       "       [-1.06371125e-01,  1.27516033e-01],\n",
       "       [-1.49426730e-01,  8.44712991e-02],\n",
       "       [-1.40737505e-01,  9.32630825e-02],\n",
       "       [-1.69809220e-01,  6.42461336e-02]])"
      ]
     },
     "execution_count": 14,
     "metadata": {},
     "output_type": "execute_result"
    }
   ],
   "source": [
    "acf_confint"
   ]
  },
  {
   "cell_type": "code",
   "execution_count": 15,
   "id": "2e4cb171-b478-4e64-890c-e1ca037223b4",
   "metadata": {},
   "outputs": [
    {
     "data": {
      "text/plain": [
       "array([39.93507972, 47.78985571, 48.07801833, 48.43299568, 49.0199089 ,\n",
       "       49.02862317, 49.07072997, 49.10981604, 49.11515903, 49.64704598,\n",
       "       51.4258274 , 54.91194437, 58.44059321, 59.77127919, 59.77134635,\n",
       "       60.06927052, 60.0809095 , 60.19251436, 60.25310888, 60.55769967])"
      ]
     },
     "execution_count": 15,
     "metadata": {},
     "output_type": "execute_result"
    }
   ],
   "source": [
    "acf_qstat"
   ]
  },
  {
   "cell_type": "code",
   "execution_count": 16,
   "id": "b883e898-9bee-4ec8-be5c-395394093c50",
   "metadata": {},
   "outputs": [
    {
     "data": {
      "text/plain": [
       "array([2.62545398e-10, 4.19338452e-11, 2.04960946e-10, 7.66643376e-10,\n",
       "       2.19855572e-09, 7.35824244e-09, 2.19769940e-08, 6.05693567e-08,\n",
       "       1.57931276e-07, 3.09906268e-07, 3.46332804e-07, 1.87690298e-07,\n",
       "       9.96660006e-08, 1.28665548e-07, 2.76089589e-07, 5.09494733e-07,\n",
       "       1.01907767e-06, 1.90456028e-06, 3.52878727e-06, 5.83612650e-06])"
      ]
     },
     "execution_count": 16,
     "metadata": {},
     "output_type": "execute_result"
    }
   ],
   "source": [
    "acf_pvalues"
   ]
  },
  {
   "cell_type": "code",
   "execution_count": 17,
   "id": "ea58ad7a-7df3-4911-9c76-276e704568bc",
   "metadata": {},
   "outputs": [],
   "source": [
    "pacf, pacf_confint = tsa.stattools.pacf(df, nlags=20, alpha=0.5)"
   ]
  },
  {
   "cell_type": "code",
   "execution_count": 18,
   "id": "aa5c406e-8bd5-4c8f-a1ee-73b56033cb17",
   "metadata": {},
   "outputs": [
    {
     "data": {
      "text/plain": [
       "array([ 1.        ,  0.70226625, -0.35463241,  0.02547835, -0.0557172 ,\n",
       "        0.03644195,  0.09868683, -0.09745465,  0.03193843, -0.0586984 ,\n",
       "       -0.10040592, -0.04081482, -0.14581954,  0.02389632,  0.04628738,\n",
       "        0.07400796, -0.055144  , -0.14061411,  0.0801913 ,  0.0617709 ,\n",
       "       -0.18368056])"
      ]
     },
     "execution_count": 18,
     "metadata": {},
     "output_type": "execute_result"
    }
   ],
   "source": [
    "pacf"
   ]
  },
  {
   "cell_type": "code",
   "execution_count": 19,
   "id": "6c3d32f2-e57e-44bf-b28c-664bd59a505f",
   "metadata": {},
   "outputs": [
    {
     "data": {
      "text/plain": [
       "array([[ 1.        ,  1.        ],\n",
       "       [ 0.62685601,  0.7776765 ],\n",
       "       [-0.43004266, -0.27922216],\n",
       "       [-0.0499319 ,  0.1008886 ],\n",
       "       [-0.13112744,  0.01969305],\n",
       "       [-0.0389683 ,  0.11185219],\n",
       "       [ 0.02327658,  0.17409707],\n",
       "       [-0.1728649 , -0.0220444 ],\n",
       "       [-0.04347182,  0.10734867],\n",
       "       [-0.13410864,  0.01671185],\n",
       "       [-0.17581617, -0.02499568],\n",
       "       [-0.11622506,  0.03459543],\n",
       "       [-0.22122978, -0.07040929],\n",
       "       [-0.05151392,  0.09930657],\n",
       "       [-0.02912287,  0.12169763],\n",
       "       [-0.00140229,  0.1494182 ],\n",
       "       [-0.13055424,  0.02026625],\n",
       "       [-0.21602436, -0.06520387],\n",
       "       [ 0.00478105,  0.15560154],\n",
       "       [-0.01363935,  0.13718115],\n",
       "       [-0.25909081, -0.10827031]])"
      ]
     },
     "execution_count": 19,
     "metadata": {},
     "output_type": "execute_result"
    }
   ],
   "source": [
    "pacf_confint"
   ]
  },
  {
   "cell_type": "code",
   "execution_count": 20,
   "id": "b0767d2b-e06f-43fb-9158-68947f949c22",
   "metadata": {},
   "outputs": [
    {
     "data": {
      "image/png": "[encoded data removed]",
      "text/plain": [
       "<Figure size 864x288 with 1 Axes>"
      ]
     },
     "metadata": {
      "needs_background": "light"
     },
     "output_type": "display_data"
    }
   ],
   "source": [
    "fig = plt.figure(figsize=(12, 4))\n",
    "ax = fig.add_subplot()\n",
    "_ = sm.graphics.tsa.plot_acf(df, lags=20, ax=ax).savefig(\"../plots/ceramic_furnace_acf.png\")"
   ]
  },
  {
   "cell_type": "code",
   "execution_count": 21,
   "id": "ba905e64-3d8a-451e-bf21-4908655d5474",
   "metadata": {},
   "outputs": [
    {
     "data": {
      "image/png": "[encoded data removed]",
      "text/plain": [
       "<Figure size 864x288 with 1 Axes>"
      ]
     },
     "metadata": {
      "needs_background": "light"
     },
     "output_type": "display_data"
    }
   ],
   "source": [
    "fig = plt.figure(figsize=(12, 4))\n",
    "ax = fig.add_subplot()\n",
    "_ = sm.graphics.tsa.plot_pacf(df, lags=20, ax=ax).savefig(\"../plots/ceramic_furnace_pacf.png\")"
   ]
  },
  {
   "cell_type": "markdown",
   "id": "6ee96aee-7fa7-4776-8f97-2f9883576ca7",
   "metadata": {},
   "source": [
    "### Fit ARMA model and evaluate with residual"
   ]
  },
  {
   "cell_type": "code",
   "execution_count": 22,
   "id": "e1b48f37-a5a0-46bf-851d-9741fd6f7f39",
   "metadata": {},
   "outputs": [],
   "source": [
    "ariima_model = ARIMA(df, order=(2, 0, 0))"
   ]
  },
  {
   "cell_type": "code",
   "execution_count": 23,
   "id": "092c4362-b9f2-45eb-9879-15f05ec750ef",
   "metadata": {},
   "outputs": [],
   "source": [
    "arima_result = ariima_model.fit()"
   ]
  },
  {
   "cell_type": "code",
   "execution_count": 25,
   "id": "317239ed-7611-4044-861a-705fc925677d",
   "metadata": {},
   "outputs": [
    {
     "data": {
      "text/html": [
       "<table class=\"simpletable\">\n",
       "<caption>SARIMAX Results</caption>\n",
       "<tr>\n",
       "  <th>Dep. Variable:</th>      <td>temperature</td>   <th>  No. Observations:  </th>   <td>80</td>   \n",
       "</tr>\n",
       "<tr>\n",
       "  <th>Model:</th>            <td>ARIMA(2, 0, 0)</td>  <th>  Log Likelihood     </th> <td>-34.800</td>\n",
       "</tr>\n",
       "<tr>\n",
       "  <th>Date:</th>            <td>Wed, 15 Jun 2022</td> <th>  AIC                </th> <td>77.600</td> \n",
       "</tr>\n",
       "<tr>\n",
       "  <th>Time:</th>                <td>14:47:53</td>     <th>  BIC                </th> <td>87.128</td> \n",
       "</tr>\n",
       "<tr>\n",
       "  <th>Sample:</th>                  <td>0</td>        <th>  HQIC               </th> <td>81.420</td> \n",
       "</tr>\n",
       "<tr>\n",
       "  <th></th>                       <td> - 80</td>      <th>                     </th>    <td> </td>   \n",
       "</tr>\n",
       "<tr>\n",
       "  <th>Covariance Type:</th>        <td>opg</td>       <th>                     </th>    <td> </td>   \n",
       "</tr>\n",
       "</table>\n",
       "<table class=\"simpletable\">\n",
       "<tr>\n",
       "     <td></td>       <th>coef</th>     <th>std err</th>      <th>z</th>      <th>P>|z|</th>  <th>[0.025</th>    <th>0.975]</th>  \n",
       "</tr>\n",
       "<tr>\n",
       "  <th>const</th>  <td> 1579.7858</td> <td>    0.103</td> <td> 1.54e+04</td> <td> 0.000</td> <td> 1579.585</td> <td> 1579.987</td>\n",
       "</tr>\n",
       "<tr>\n",
       "  <th>ar.L1</th>  <td>    0.9698</td> <td>    0.103</td> <td>    9.414</td> <td> 0.000</td> <td>    0.768</td> <td>    1.172</td>\n",
       "</tr>\n",
       "<tr>\n",
       "  <th>ar.L2</th>  <td>   -0.3626</td> <td>    0.114</td> <td>   -3.192</td> <td> 0.001</td> <td>   -0.585</td> <td>   -0.140</td>\n",
       "</tr>\n",
       "<tr>\n",
       "  <th>sigma2</th> <td>    0.1380</td> <td>    0.019</td> <td>    7.246</td> <td> 0.000</td> <td>    0.101</td> <td>    0.175</td>\n",
       "</tr>\n",
       "</table>\n",
       "<table class=\"simpletable\">\n",
       "<tr>\n",
       "  <th>Ljung-Box (L1) (Q):</th>     <td>0.02</td> <th>  Jarque-Bera (JB):  </th> <td>1.50</td> \n",
       "</tr>\n",
       "<tr>\n",
       "  <th>Prob(Q):</th>                <td>0.88</td> <th>  Prob(JB):          </th> <td>0.47</td> \n",
       "</tr>\n",
       "<tr>\n",
       "  <th>Heteroskedasticity (H):</th> <td>1.17</td> <th>  Skew:              </th> <td>-0.09</td>\n",
       "</tr>\n",
       "<tr>\n",
       "  <th>Prob(H) (two-sided):</th>    <td>0.68</td> <th>  Kurtosis:          </th> <td>3.64</td> \n",
       "</tr>\n",
       "</table><br/><br/>Warnings:<br/>[1] Covariance matrix calculated using the outer product of gradients (complex-step)."
      ],
      "text/plain": [
       "<class 'statsmodels.iolib.summary.Summary'>\n",
       "\"\"\"\n",
       "                               SARIMAX Results                                \n",
       "==============================================================================\n",
       "Dep. Variable:            temperature   No. Observations:                   80\n",
       "Model:                 ARIMA(2, 0, 0)   Log Likelihood                 -34.800\n",
       "Date:                Wed, 15 Jun 2022   AIC                             77.600\n",
       "Time:                        14:47:53   BIC                             87.128\n",
       "Sample:                             0   HQIC                            81.420\n",
       "                                 - 80                                         \n",
       "Covariance Type:                  opg                                         \n",
       "==============================================================================\n",
       "                 coef    std err          z      P>|z|      [0.025      0.975]\n",
       "------------------------------------------------------------------------------\n",
       "const       1579.7858      0.103   1.54e+04      0.000    1579.585    1579.987\n",
       "ar.L1          0.9698      0.103      9.414      0.000       0.768       1.172\n",
       "ar.L2         -0.3626      0.114     -3.192      0.001      -0.585      -0.140\n",
       "sigma2         0.1380      0.019      7.246      0.000       0.101       0.175\n",
       "===================================================================================\n",
       "Ljung-Box (L1) (Q):                   0.02   Jarque-Bera (JB):                 1.50\n",
       "Prob(Q):                              0.88   Prob(JB):                         0.47\n",
       "Heteroskedasticity (H):               1.17   Skew:                            -0.09\n",
       "Prob(H) (two-sided):                  0.68   Kurtosis:                         3.64\n",
       "===================================================================================\n",
       "\n",
       "Warnings:\n",
       "[1] Covariance matrix calculated using the outer product of gradients (complex-step).\n",
       "\"\"\""
      ]
     },
     "execution_count": 25,
     "metadata": {},
     "output_type": "execute_result"
    }
   ],
   "source": [
    "arima_result.summary()"
   ]
  },
  {
   "cell_type": "markdown",
   "id": "516f0572-7bd4-4125-a622-049f056acf7a",
   "metadata": {},
   "source": [
    "#### The values are different from the values from the book. The book says\n",
    "\n",
    "| Coefficient | Estimate | Standard error |\n",
    "| ---- | ---- | ---- | ---- | \n",
    "| Phi1     | 0.9824   | 0.1062         |\n",
    "| Phi2     | -0.3722  | 0.1066         |\n",
    "| Constant | 615.836  | 0.042          |\n",
    "| Mean     | 1579.79  | 0.11           |\n",
    "\n",
    "\"const\" from statsmodels ARIMA has a similar value as \"Mean\" from the book. In fact, the value seems to be mean from the original sample data. "
   ]
  },
  {
   "cell_type": "code",
   "execution_count": 28,
   "id": "43a41115-9879-4105-b0cc-32f5bb860672",
   "metadata": {},
   "outputs": [
    {
     "data": {
      "text/plain": [
       "const     0.000000e+00\n",
       "ar.L1     4.795509e-21\n",
       "ar.L2     1.411313e-03\n",
       "sigma2    4.291954e-13\n",
       "dtype: float64"
      ]
     },
     "execution_count": 28,
     "metadata": {},
     "output_type": "execute_result"
    }
   ],
   "source": [
    "arima_result.pvalues"
   ]
  },
  {
   "cell_type": "code",
   "execution_count": 30,
   "id": "58cffb28-d9aa-4a1f-b43a-f4d5e713e073",
   "metadata": {},
   "outputs": [
    {
     "data": {
      "text/plain": [
       "const     15410.322508\n",
       "ar.L1         9.413573\n",
       "ar.L2        -3.192327\n",
       "sigma2        7.246020\n",
       "dtype: float64"
      ]
     },
     "execution_count": 30,
     "metadata": {},
     "output_type": "execute_result"
    }
   ],
   "source": [
    "arima_result.tvalues"
   ]
  },
  {
   "cell_type": "code",
   "execution_count": 36,
   "id": "b68e666c-d8d9-4abc-a90f-0964ae0edf46",
   "metadata": {},
   "outputs": [
    {
     "data": {
      "text/plain": [
       "0     1579.785837\n",
       "1     1579.020127\n",
       "2     1579.210148\n",
       "3     1579.753314\n",
       "4     1579.520009\n",
       "         ...     \n",
       "75    1579.645078\n",
       "76    1579.493539\n",
       "77    1579.066658\n",
       "78    1578.860026\n",
       "79    1579.780874\n",
       "Name: predicted_mean, Length: 80, dtype: float64"
      ]
     },
     "execution_count": 36,
     "metadata": {},
     "output_type": "execute_result"
    }
   ],
   "source": [
    "prediction = arima_result.predict()\n",
    "prediction"
   ]
  },
  {
   "cell_type": "code",
   "execution_count": 37,
   "id": "e6a50026-d39e-4526-b97e-6a98a0391513",
   "metadata": {},
   "outputs": [
    {
     "data": {
      "text/plain": [
       "pandas.core.series.Series"
      ]
     },
     "execution_count": 37,
     "metadata": {},
     "output_type": "execute_result"
    }
   ],
   "source": [
    "type(prediction)"
   ]
  },
  {
   "cell_type": "code",
   "execution_count": 42,
   "id": "0ac8ce94-de88-4851-a7cd-a0423914a6d6",
   "metadata": {},
   "outputs": [],
   "source": [
    "prediction_df = prediction.to_frame()"
   ]
  },
  {
   "cell_type": "code",
   "execution_count": 44,
   "id": "af29a1bb-5b5d-442e-a133-d91603b7c08a",
   "metadata": {},
   "outputs": [],
   "source": [
    "prediction_df.rename(columns={'predicted_mean':'temperature'}, inplace=True)"
   ]
  },
  {
   "cell_type": "code",
   "execution_count": 45,
   "id": "561b80fb-a286-4d42-8889-864b37ea6127",
   "metadata": {},
   "outputs": [
    {
     "data": {
      "text/html": [
       "<div>\n",
       "<style scoped>\n",
       "    .dataframe tbody tr th:only-of-type {\n",
       "        vertical-align: middle;\n",
       "    }\n",
       "\n",
       "    .dataframe tbody tr th {\n",
       "        vertical-align: top;\n",
       "    }\n",
       "\n",
       "    .dataframe thead th {\n",
       "        text-align: right;\n",
       "    }\n",
       "</style>\n",
       "<table border=\"1\" class=\"dataframe\">\n",
       "  <thead>\n",
       "    <tr style=\"text-align: right;\">\n",
       "      <th></th>\n",
       "      <th>temperature</th>\n",
       "    </tr>\n",
       "  </thead>\n",
       "  <tbody>\n",
       "    <tr>\n",
       "      <th>0</th>\n",
       "      <td>1579.785837</td>\n",
       "    </tr>\n",
       "    <tr>\n",
       "      <th>1</th>\n",
       "      <td>1579.020127</td>\n",
       "    </tr>\n",
       "    <tr>\n",
       "      <th>2</th>\n",
       "      <td>1579.210148</td>\n",
       "    </tr>\n",
       "    <tr>\n",
       "      <th>3</th>\n",
       "      <td>1579.753314</td>\n",
       "    </tr>\n",
       "    <tr>\n",
       "      <th>4</th>\n",
       "      <td>1579.520009</td>\n",
       "    </tr>\n",
       "    <tr>\n",
       "      <th>...</th>\n",
       "      <td>...</td>\n",
       "    </tr>\n",
       "    <tr>\n",
       "      <th>75</th>\n",
       "      <td>1579.645078</td>\n",
       "    </tr>\n",
       "    <tr>\n",
       "      <th>76</th>\n",
       "      <td>1579.493539</td>\n",
       "    </tr>\n",
       "    <tr>\n",
       "      <th>77</th>\n",
       "      <td>1579.066658</td>\n",
       "    </tr>\n",
       "    <tr>\n",
       "      <th>78</th>\n",
       "      <td>1578.860026</td>\n",
       "    </tr>\n",
       "    <tr>\n",
       "      <th>79</th>\n",
       "      <td>1579.780874</td>\n",
       "    </tr>\n",
       "  </tbody>\n",
       "</table>\n",
       "<p>80 rows × 1 columns</p>\n",
       "</div>"
      ],
      "text/plain": [
       "    temperature\n",
       "0   1579.785837\n",
       "1   1579.020127\n",
       "2   1579.210148\n",
       "3   1579.753314\n",
       "4   1579.520009\n",
       "..          ...\n",
       "75  1579.645078\n",
       "76  1579.493539\n",
       "77  1579.066658\n",
       "78  1578.860026\n",
       "79  1579.780874\n",
       "\n",
       "[80 rows x 1 columns]"
      ]
     },
     "execution_count": 45,
     "metadata": {},
     "output_type": "execute_result"
    }
   ],
   "source": [
    "prediction_df"
   ]
  },
  {
   "cell_type": "code",
   "execution_count": 46,
   "id": "5c203e0d-5ad1-4d56-9dcc-02d5c2e000fb",
   "metadata": {},
   "outputs": [],
   "source": [
    "residuals = df - prediction_df"
   ]
  },
  {
   "cell_type": "code",
   "execution_count": 47,
   "id": "fbabb0c3-e0f9-40cd-a881-a87f118c6317",
   "metadata": {},
   "outputs": [
    {
     "data": {
      "text/html": [
       "<div>\n",
       "<style scoped>\n",
       "    .dataframe tbody tr th:only-of-type {\n",
       "        vertical-align: middle;\n",
       "    }\n",
       "\n",
       "    .dataframe tbody tr th {\n",
       "        vertical-align: top;\n",
       "    }\n",
       "\n",
       "    .dataframe thead th {\n",
       "        text-align: right;\n",
       "    }\n",
       "</style>\n",
       "<table border=\"1\" class=\"dataframe\">\n",
       "  <thead>\n",
       "    <tr style=\"text-align: right;\">\n",
       "      <th></th>\n",
       "      <th>temperature</th>\n",
       "    </tr>\n",
       "  </thead>\n",
       "  <tbody>\n",
       "    <tr>\n",
       "      <th>0</th>\n",
       "      <td>-1.075837</td>\n",
       "    </tr>\n",
       "    <tr>\n",
       "      <th>1</th>\n",
       "      <td>-0.230127</td>\n",
       "    </tr>\n",
       "    <tr>\n",
       "      <th>2</th>\n",
       "      <td>0.169852</td>\n",
       "    </tr>\n",
       "    <tr>\n",
       "      <th>3</th>\n",
       "      <td>-0.393314</td>\n",
       "    </tr>\n",
       "    <tr>\n",
       "      <th>4</th>\n",
       "      <td>0.309991</td>\n",
       "    </tr>\n",
       "    <tr>\n",
       "      <th>...</th>\n",
       "      <td>...</td>\n",
       "    </tr>\n",
       "    <tr>\n",
       "      <th>75</th>\n",
       "      <td>-0.245078</td>\n",
       "    </tr>\n",
       "    <tr>\n",
       "      <th>76</th>\n",
       "      <td>-0.593539</td>\n",
       "    </tr>\n",
       "    <tr>\n",
       "      <th>77</th>\n",
       "      <td>-0.566658</td>\n",
       "    </tr>\n",
       "    <tr>\n",
       "      <th>78</th>\n",
       "      <td>0.439974</td>\n",
       "    </tr>\n",
       "    <tr>\n",
       "      <th>79</th>\n",
       "      <td>0.149126</td>\n",
       "    </tr>\n",
       "  </tbody>\n",
       "</table>\n",
       "<p>80 rows × 1 columns</p>\n",
       "</div>"
      ],
      "text/plain": [
       "    temperature\n",
       "0     -1.075837\n",
       "1     -0.230127\n",
       "2      0.169852\n",
       "3     -0.393314\n",
       "4      0.309991\n",
       "..          ...\n",
       "75    -0.245078\n",
       "76    -0.593539\n",
       "77    -0.566658\n",
       "78     0.439974\n",
       "79     0.149126\n",
       "\n",
       "[80 rows x 1 columns]"
      ]
     },
     "execution_count": 47,
     "metadata": {},
     "output_type": "execute_result"
    }
   ],
   "source": [
    "residuals"
   ]
  },
  {
   "cell_type": "code",
   "execution_count": 48,
   "id": "f811eb43-b4cd-4dd9-8d1d-2e0a554f0786",
   "metadata": {},
   "outputs": [
    {
     "name": "stderr",
     "output_type": "stream",
     "text": [
      "/Users/tadatoshi/.pyenv/versions/3.10.4/Library/Frameworks/Python.framework/Versions/3.10/lib/python3.10/site-packages/statsmodels/graphics/tsaplots.py:348: FutureWarning: The default method 'yw' can produce PACF values outside of the [-1,1] interval. After 0.13, the default will change tounadjusted Yule-Walker ('ywm'). You can use this method now by setting method='ywm'.\n",
      "  warnings.warn(\n"
     ]
    },
    {
     "data": {
      "image/png": "[encoded data removed]",
      "text/plain": [
       "<Figure size 864x576 with 2 Axes>"
      ]
     },
     "metadata": {
      "needs_background": "light"
     },
     "output_type": "display_data"
    }
   ],
   "source": [
    "fig = plt.figure(figsize=(12, 8))\n",
    "ax1 = fig.add_subplot(211)\n",
    "_ = sm.graphics.tsa.plot_acf(residuals, lags=20, ax=ax1)\n",
    "ax2 = fig.add_subplot(212)\n",
    "_ = sm.graphics.tsa.plot_pacf(residuals, lags=20, ax=ax2)"
   ]
  },
  {
   "cell_type": "code",
   "execution_count": 49,
   "id": "9888ed6a-a147-4ac4-b86e-6836fc474f28",
   "metadata": {},
   "outputs": [
    {
     "data": {
      "image/png": "[encoded data removed]",
      "text/plain": [
       "<Figure size 864x288 with 1 Axes>"
      ]
     },
     "metadata": {
      "needs_background": "light"
     },
     "output_type": "display_data"
    }
   ],
   "source": [
    "fig = plt.figure(figsize=(12, 4))\n",
    "ax = fig.add_subplot()\n",
    "_ = sm.graphics.tsa.plot_acf(residuals, lags=20, ax=ax).savefig(\"../plots/ceramic_furnace_residuals_acf.png\")"
   ]
  },
  {
   "cell_type": "code",
   "execution_count": 50,
   "id": "983a9f72-3ebd-44ee-8039-9e4bde43a0ab",
   "metadata": {},
   "outputs": [
    {
     "data": {
      "image/png": "[encoded data removed]",
      "text/plain": [
       "<Figure size 864x288 with 1 Axes>"
      ]
     },
     "metadata": {
      "needs_background": "light"
     },
     "output_type": "display_data"
    }
   ],
   "source": [
    "fig = plt.figure(figsize=(12, 4))\n",
    "ax = fig.add_subplot()\n",
    "_ = sm.graphics.tsa.plot_pacf(residuals, lags=20, ax=ax).savefig(\"../plots/ceramic_furnace_residuals_pacf.png\")"
   ]
  },
  {
   "cell_type": "code",
   "execution_count": null,
   "id": "cc25256a-6480-4604-99a4-e13840243abf",
   "metadata": {},
   "outputs": [],
   "source": []
  }
 ],
 "metadata": {
  "kernelspec": {
   "display_name": "Python 3 (ipykernel)",
   "language": "python",
   "name": "python3"
  },
  "language_info": {
   "codemirror_mode": {
    "name": "ipython",
    "version": 3
   },
   "file_extension": ".py",
   "mimetype": "text/x-python",
   "name": "python",
   "nbconvert_exporter": "python",
   "pygments_lexer": "ipython3",
   "version": "3.10.4"
  }
 },
 "nbformat": 4,
 "nbformat_minor": 5
}
