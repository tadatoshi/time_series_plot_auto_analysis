{
 "cells": [
  {
   "cell_type": "markdown",
   "id": "6d86f0a2-7544-41d1-b2ad-2f204ba07d64",
   "metadata": {},
   "source": [
    "## Trial to use Convolutional Neural Network (with Tensorflow) to detect PACF plot that implies stationary time series"
   ]
  },
  {
   "cell_type": "markdown",
   "id": "aa8a6e2b-5252-468f-8460-f8da13c2a143",
   "metadata": {},
   "source": [
    "### Use the analysis code from time_series_plot_auto_analysis "
   ]
  },
  {
   "cell_type": "code",
   "execution_count": 4,
   "id": "92ca74f5-945c-4e72-b37b-5db14d74bb55",
   "metadata": {},
   "outputs": [],
   "source": [
    "import os"
   ]
  },
  {
   "cell_type": "code",
   "execution_count": 1,
   "id": "636ae27a-d79d-404b-abec-96f94a34cc65",
   "metadata": {},
   "outputs": [],
   "source": [
    "from time_series_plot_auto_analysis.acf_pacf.analysis import AcfPacfStationarityDetection"
   ]
  },
  {
   "cell_type": "code",
   "execution_count": 2,
   "id": "8970ee48-e32a-45c1-8083-0ea6af7e3825",
   "metadata": {},
   "outputs": [],
   "source": [
    "stationarity_detection = AcfPacfStationarityDetection()"
   ]
  },
  {
   "cell_type": "code",
   "execution_count": 5,
   "id": "de53c7b5-9219-4b24-b221-6e00e72e184d",
   "metadata": {},
   "outputs": [],
   "source": [
    "plots_directory_path = os.path.abspath(os.path.join(os.path.realpath('.'), '../data/plots/synthetic_pacf'))"
   ]
  },
  {
   "cell_type": "code",
   "execution_count": 6,
   "id": "9fb7ef33-21af-4331-9d1f-b0b0af3986a8",
   "metadata": {},
   "outputs": [
    {
     "data": {
      "text/plain": [
       "'/Users/tadatoshi/Documents/development/projects/tadatoshi_solar_research_society/time_series_plot_auto_analysis/data/plots/synthetic_pacf'"
      ]
     },
     "execution_count": 6,
     "metadata": {},
     "output_type": "execute_result"
    }
   ],
   "source": [
    "plots_directory_path"
   ]
  },
  {
   "cell_type": "code",
   "execution_count": 7,
   "id": "7151e36a-5ba2-47dd-803e-fb974bfbb709",
   "metadata": {},
   "outputs": [],
   "source": [
    "models_path = os.path.abspath(os.path.join(os.path.realpath('.'), \n",
    "                                           '../tensorflow_models/saved_model/model_pacf_1'))"
   ]
  },
  {
   "cell_type": "code",
   "execution_count": 8,
   "id": "36236ffd-aa3a-479b-9148-21ce5e7f8744",
   "metadata": {},
   "outputs": [
    {
     "data": {
      "text/plain": [
       "'/Users/tadatoshi/Documents/development/projects/tadatoshi_solar_research_society/time_series_plot_auto_analysis/tensorflow_models/saved_model/model_pacf_1'"
      ]
     },
     "execution_count": 8,
     "metadata": {},
     "output_type": "execute_result"
    }
   ],
   "source": [
    "models_path"
   ]
  },
  {
   "cell_type": "code",
   "execution_count": 10,
   "id": "57f06433-cdae-4c5f-ae0f-9153dafe190a",
   "metadata": {},
   "outputs": [
    {
     "name": "stdout",
     "output_type": "stream",
     "text": [
      "Found 200 files belonging to 2 classes.\n",
      "Using 160 files for training.\n",
      "Found 200 files belonging to 2 classes.\n",
      "Using 40 files for validation.\n"
     ]
    },
    {
     "name": "stderr",
     "output_type": "stream",
     "text": [
      "2022-07-26 20:29:10.211014: I tensorflow/core/platform/cpu_feature_guard.cc:193] This TensorFlow binary is optimized with oneAPI Deep Neural Network Library (oneDNN) to use the following CPU instructions in performance-critical operations:  AVX2 FMA\n",
      "To enable them in other operations, rebuild TensorFlow with the appropriate compiler flags.\n"
     ]
    },
    {
     "name": "stdout",
     "output_type": "stream",
     "text": [
      "Epoch 1/3\n",
      "5/5 [==============================] - 12s 2s/step - loss: 5.2055 - accuracy: 0.5625 - val_loss: 1.4828 - val_accuracy: 0.5000\n",
      "Epoch 2/3\n",
      "5/5 [==============================] - 10s 2s/step - loss: 0.9486 - accuracy: 0.5000 - val_loss: 0.7118 - val_accuracy: 0.5000\n",
      "Epoch 3/3\n",
      "5/5 [==============================] - 11s 2s/step - loss: 0.7338 - accuracy: 0.4500 - val_loss: 0.6941 - val_accuracy: 0.5000\n"
     ]
    },
    {
     "name": "stderr",
     "output_type": "stream",
     "text": [
      "WARNING:absl:Found untraced functions such as _jit_compiled_convolution_op, _jit_compiled_convolution_op, _jit_compiled_convolution_op while saving (showing 3 of 3). These functions will not be directly callable after loading.\n"
     ]
    },
    {
     "name": "stdout",
     "output_type": "stream",
     "text": [
      "INFO:tensorflow:Assets written to: /Users/tadatoshi/Documents/development/projects/tadatoshi_solar_research_society/time_series_plot_auto_analysis/tensorflow_models/saved_model/model_pacf_1/assets\n"
     ]
    },
    {
     "name": "stderr",
     "output_type": "stream",
     "text": [
      "INFO:tensorflow:Assets written to: /Users/tadatoshi/Documents/development/projects/tadatoshi_solar_research_society/time_series_plot_auto_analysis/tensorflow_models/saved_model/model_pacf_1/assets\n"
     ]
    },
    {
     "data": {
      "text/plain": [
       "<keras.engine.sequential.Sequential at 0x14cea1e70>"
      ]
     },
     "execution_count": 10,
     "metadata": {},
     "output_type": "execute_result"
    }
   ],
   "source": [
    "stationarity_detection.train_model_and_save(plots_directory_path=plots_directory_path,\n",
    "                                            models_path=models_path)"
   ]
  },
  {
   "cell_type": "markdown",
   "id": "f51347e7-a95c-4f65-8563-cd73c93fc8c1",
   "metadata": {},
   "source": [
    "#### Try to detect \"stationary\". "
   ]
  },
  {
   "cell_type": "code",
   "execution_count": 12,
   "id": "07e0dec8-11a4-4ad7-a58f-50c8bc7f6f80",
   "metadata": {},
   "outputs": [],
   "source": [
    "prediction_plot_file_path_1 = os.path.abspath(os.path.join(os.path.realpath('.'), \n",
    "        '../data/plots/synthetic_pacf_for_prediction/stationary/synthetic_pacf_20220719193547_1.png'))"
   ]
  },
  {
   "cell_type": "code",
   "execution_count": 13,
   "id": "e2c3d15b-9f06-4cc7-9325-3e164a6a3817",
   "metadata": {},
   "outputs": [
    {
     "data": {
      "text/plain": [
       "'/Users/tadatoshi/Documents/development/projects/tadatoshi_solar_research_society/time_series_plot_auto_analysis/data/plots/synthetic_pacf_for_prediction/stationary/synthetic_pacf_20220719193547_1.png'"
      ]
     },
     "execution_count": 13,
     "metadata": {},
     "output_type": "execute_result"
    }
   ],
   "source": [
    "prediction_plot_file_path_1"
   ]
  },
  {
   "cell_type": "code",
   "execution_count": 15,
   "id": "ce33593b-8c84-4b5a-aa32-24ead16c94b7",
   "metadata": {},
   "outputs": [
    {
     "name": "stdout",
     "output_type": "stream",
     "text": [
      "1/1 [==============================] - 0s 103ms/step\n"
     ]
    }
   ],
   "source": [
    "stationarity_1 = stationarity_detection.detect(models_path=models_path,\n",
    "                                               prediction_plot_file_path=prediction_plot_file_path_1)"
   ]
  },
  {
   "cell_type": "code",
   "execution_count": 16,
   "id": "b550034c-9f5c-4469-a590-d75bac73d8df",
   "metadata": {},
   "outputs": [
    {
     "data": {
      "text/plain": [
       "<Stationarity.stationary: 'stationary'>"
      ]
     },
     "execution_count": 16,
     "metadata": {},
     "output_type": "execute_result"
    }
   ],
   "source": [
    "stationarity"
   ]
  },
  {
   "cell_type": "markdown",
   "id": "f66b5942-5de3-49f1-878e-1087fee89c21",
   "metadata": {},
   "source": [
    "#### Try to detect \"nonstationary\"."
   ]
  },
  {
   "cell_type": "code",
   "execution_count": 17,
   "id": "910d0e80-d480-4aa4-bbc6-abd9e3fd4b69",
   "metadata": {},
   "outputs": [],
   "source": [
    "prediction_plot_file_path_2 = os.path.abspath(os.path.join(os.path.realpath('.'), \n",
    "        '../data/plots/synthetic_pacf_for_prediction/nonstationary/synthetic_trend_nonstationary_pacf_20220726173211_1.png'))"
   ]
  },
  {
   "cell_type": "code",
   "execution_count": 18,
   "id": "dd901b58-0e2e-449e-845c-ce47ed9dfa29",
   "metadata": {},
   "outputs": [
    {
     "data": {
      "text/plain": [
       "'/Users/tadatoshi/Documents/development/projects/tadatoshi_solar_research_society/time_series_plot_auto_analysis/data/plots/synthetic_pacf_for_prediction/nonstationary/synthetic_trend_nonstationary_pacf_20220726173211_1.png'"
      ]
     },
     "execution_count": 18,
     "metadata": {},
     "output_type": "execute_result"
    }
   ],
   "source": [
    "prediction_plot_file_path_2"
   ]
  },
  {
   "cell_type": "code",
   "execution_count": 19,
   "id": "ae61f07a-aff8-455e-a200-7c78d165fcf9",
   "metadata": {},
   "outputs": [
    {
     "name": "stdout",
     "output_type": "stream",
     "text": [
      "1/1 [==============================] - 0s 109ms/step\n"
     ]
    }
   ],
   "source": [
    "stationarity_2 = stationarity_detection.detect(models_path=models_path,\n",
    "                                               prediction_plot_file_path=prediction_plot_file_path_2)"
   ]
  },
  {
   "cell_type": "code",
   "execution_count": 20,
   "id": "84cb3b29-717e-4df2-8627-86a126e02f3b",
   "metadata": {},
   "outputs": [
    {
     "data": {
      "text/plain": [
       "<Stationarity.stationary: 'stationary'>"
      ]
     },
     "execution_count": 20,
     "metadata": {},
     "output_type": "execute_result"
    }
   ],
   "source": [
    "stationarity_2"
   ]
  },
  {
   "cell_type": "markdown",
   "id": "942bfa77-682f-4102-9aab-c85b64a67eb9",
   "metadata": {},
   "source": [
    "#### Detecting \"nonstationary failed simply because the plots didn't show any difference. "
   ]
  },
  {
   "cell_type": "markdown",
   "id": "dd0a0b83-39d4-4326-b48a-b120950de7d7",
   "metadata": {},
   "source": [
    " ## TODO: Generate better nonstationary time series data."
   ]
  },
  {
   "cell_type": "code",
   "execution_count": null,
   "id": "08e76bda-b438-43c7-ae8d-a35c767ee87b",
   "metadata": {},
   "outputs": [],
   "source": []
  }
 ],
 "metadata": {
  "kernelspec": {
   "display_name": "Python 3 (ipykernel)",
   "language": "python",
   "name": "python3"
  },
  "language_info": {
   "codemirror_mode": {
    "name": "ipython",
    "version": 3
   },
   "file_extension": ".py",
   "mimetype": "text/x-python",
   "name": "python",
   "nbconvert_exporter": "python",
   "pygments_lexer": "ipython3",
   "version": "3.10.5"
  }
 },
 "nbformat": 4,
 "nbformat_minor": 5
}
