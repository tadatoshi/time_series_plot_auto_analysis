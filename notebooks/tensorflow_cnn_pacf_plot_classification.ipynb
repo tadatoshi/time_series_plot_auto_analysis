{
 "cells": [
  {
   "cell_type": "markdown",
   "id": "6d86f0a2-7544-41d1-b2ad-2f204ba07d64",
   "metadata": {},
   "source": [
    "## Trial to use Convolutional Neural Network (with Tensorflow) to detect PACF plot that implies stationary time series"
   ]
  },
  {
   "cell_type": "markdown",
   "id": "aa8a6e2b-5252-468f-8460-f8da13c2a143",
   "metadata": {},
   "source": [
    "### Use the analysis code from time_series_plot_auto_analysis "
   ]
  },
  {
   "cell_type": "code",
   "execution_count": 1,
   "id": "92ca74f5-945c-4e72-b37b-5db14d74bb55",
   "metadata": {},
   "outputs": [],
   "source": [
    "import os"
   ]
  },
  {
   "cell_type": "code",
   "execution_count": 2,
   "id": "636ae27a-d79d-404b-abec-96f94a34cc65",
   "metadata": {},
   "outputs": [],
   "source": [
    "from time_series_plot_auto_analysis.acf_pacf.analysis import AcfPacfStationarityDetection"
   ]
  },
  {
   "cell_type": "code",
   "execution_count": 3,
   "id": "8970ee48-e32a-45c1-8083-0ea6af7e3825",
   "metadata": {},
   "outputs": [],
   "source": [
    "stationarity_detection = AcfPacfStationarityDetection()"
   ]
  },
  {
   "cell_type": "code",
   "execution_count": 4,
   "id": "de53c7b5-9219-4b24-b221-6e00e72e184d",
   "metadata": {},
   "outputs": [],
   "source": [
    "plots_directory_path = os.path.abspath(os.path.join(os.path.realpath('.'), '../data/plots/synthetic_pacf'))"
   ]
  },
  {
   "cell_type": "code",
   "execution_count": 5,
   "id": "9fb7ef33-21af-4331-9d1f-b0b0af3986a8",
   "metadata": {},
   "outputs": [
    {
     "data": {
      "text/plain": [
       "'/Users/tadatoshi/Documents/development/projects/tadatoshi_solar_research_society/time_series_plot_auto_analysis/data/plots/synthetic_pacf'"
      ]
     },
     "execution_count": 5,
     "metadata": {},
     "output_type": "execute_result"
    }
   ],
   "source": [
    "plots_directory_path"
   ]
  },
  {
   "cell_type": "code",
   "execution_count": 6,
   "id": "7151e36a-5ba2-47dd-803e-fb974bfbb709",
   "metadata": {},
   "outputs": [],
   "source": [
    "models_path = os.path.abspath(os.path.join(os.path.realpath('.'), \n",
    "                                           '../tensorflow_models/saved_model/model_pacf_1'))"
   ]
  },
  {
   "cell_type": "code",
   "execution_count": 7,
   "id": "36236ffd-aa3a-479b-9148-21ce5e7f8744",
   "metadata": {},
   "outputs": [
    {
     "data": {
      "text/plain": [
       "'/Users/tadatoshi/Documents/development/projects/tadatoshi_solar_research_society/time_series_plot_auto_analysis/tensorflow_models/saved_model/model_pacf_1'"
      ]
     },
     "execution_count": 7,
     "metadata": {},
     "output_type": "execute_result"
    }
   ],
   "source": [
    "models_path"
   ]
  },
  {
   "cell_type": "code",
   "execution_count": 8,
   "id": "57f06433-cdae-4c5f-ae0f-9153dafe190a",
   "metadata": {},
   "outputs": [
    {
     "name": "stdout",
     "output_type": "stream",
     "text": [
      "Found 200 files belonging to 2 classes.\n",
      "Using 160 files for training.\n",
      "Found 200 files belonging to 2 classes.\n",
      "Using 40 files for validation.\n"
     ]
    },
    {
     "name": "stderr",
     "output_type": "stream",
     "text": [
      "2022-08-02 20:46:31.461123: I tensorflow/core/platform/cpu_feature_guard.cc:193] This TensorFlow binary is optimized with oneAPI Deep Neural Network Library (oneDNN) to use the following CPU instructions in performance-critical operations:  AVX2 FMA\n",
      "To enable them in other operations, rebuild TensorFlow with the appropriate compiler flags.\n"
     ]
    },
    {
     "name": "stdout",
     "output_type": "stream",
     "text": [
      "Epoch 1/3\n",
      "5/5 [==============================] - 14s 2s/step - loss: 7.6530 - accuracy: 0.4375 - val_loss: 1.0849 - val_accuracy: 0.5000\n",
      "Epoch 2/3\n",
      "5/5 [==============================] - 12s 3s/step - loss: 0.8092 - accuracy: 0.5000 - val_loss: 0.7001 - val_accuracy: 0.5000\n",
      "Epoch 3/3\n",
      "5/5 [==============================] - 12s 3s/step - loss: 0.7082 - accuracy: 0.5000 - val_loss: 0.6987 - val_accuracy: 0.5000\n"
     ]
    },
    {
     "name": "stderr",
     "output_type": "stream",
     "text": [
      "WARNING:absl:Found untraced functions such as _jit_compiled_convolution_op, _jit_compiled_convolution_op, _jit_compiled_convolution_op while saving (showing 3 of 3). These functions will not be directly callable after loading.\n"
     ]
    },
    {
     "name": "stdout",
     "output_type": "stream",
     "text": [
      "INFO:tensorflow:Assets written to: /Users/tadatoshi/Documents/development/projects/tadatoshi_solar_research_society/time_series_plot_auto_analysis/tensorflow_models/saved_model/model_pacf_1/assets\n"
     ]
    },
    {
     "name": "stderr",
     "output_type": "stream",
     "text": [
      "INFO:tensorflow:Assets written to: /Users/tadatoshi/Documents/development/projects/tadatoshi_solar_research_society/time_series_plot_auto_analysis/tensorflow_models/saved_model/model_pacf_1/assets\n"
     ]
    },
    {
     "data": {
      "text/plain": [
       "<keras.engine.sequential.Sequential at 0x152e7a290>"
      ]
     },
     "execution_count": 8,
     "metadata": {},
     "output_type": "execute_result"
    }
   ],
   "source": [
    "stationarity_detection.train_model_and_save(plots_directory_path=plots_directory_path,\n",
    "                                            models_path=models_path)"
   ]
  },
  {
   "cell_type": "markdown",
   "id": "f51347e7-a95c-4f65-8563-cd73c93fc8c1",
   "metadata": {},
   "source": [
    "#### Try to detect \"stationary\". "
   ]
  },
  {
   "cell_type": "code",
   "execution_count": 9,
   "id": "07e0dec8-11a4-4ad7-a58f-50c8bc7f6f80",
   "metadata": {},
   "outputs": [],
   "source": [
    "prediction_plot_file_path_1 = os.path.abspath(os.path.join(os.path.realpath('.'), \n",
    "        '../data/plots/synthetic_pacf_for_prediction/stationary/synthetic_pacf_20220719193547_1.png'))"
   ]
  },
  {
   "cell_type": "code",
   "execution_count": 10,
   "id": "e2c3d15b-9f06-4cc7-9325-3e164a6a3817",
   "metadata": {},
   "outputs": [
    {
     "data": {
      "text/plain": [
       "'/Users/tadatoshi/Documents/development/projects/tadatoshi_solar_research_society/time_series_plot_auto_analysis/data/plots/synthetic_pacf_for_prediction/stationary/synthetic_pacf_20220719193547_1.png'"
      ]
     },
     "execution_count": 10,
     "metadata": {},
     "output_type": "execute_result"
    }
   ],
   "source": [
    "prediction_plot_file_path_1"
   ]
  },
  {
   "cell_type": "code",
   "execution_count": 11,
   "id": "ce33593b-8c84-4b5a-aa32-24ead16c94b7",
   "metadata": {},
   "outputs": [
    {
     "name": "stdout",
     "output_type": "stream",
     "text": [
      "1/1 [==============================] - 0s 166ms/step\n"
     ]
    }
   ],
   "source": [
    "stationarity_1 = stationarity_detection.detect(models_path=models_path,\n",
    "                                               prediction_plot_file_path=prediction_plot_file_path_1)"
   ]
  },
  {
   "cell_type": "code",
   "execution_count": 13,
   "id": "b550034c-9f5c-4469-a590-d75bac73d8df",
   "metadata": {},
   "outputs": [
    {
     "data": {
      "text/plain": [
       "<Stationarity.stationary: 'stationary'>"
      ]
     },
     "execution_count": 13,
     "metadata": {},
     "output_type": "execute_result"
    }
   ],
   "source": [
    "stationarity_1"
   ]
  },
  {
   "cell_type": "markdown",
   "id": "f66b5942-5de3-49f1-878e-1087fee89c21",
   "metadata": {},
   "source": [
    "#### Try to detect \"nonstationary\"."
   ]
  },
  {
   "cell_type": "code",
   "execution_count": 14,
   "id": "910d0e80-d480-4aa4-bbc6-abd9e3fd4b69",
   "metadata": {},
   "outputs": [],
   "source": [
    "prediction_plot_file_path_2 = os.path.abspath(os.path.join(os.path.realpath('.'), \n",
    "        '../data/plots/synthetic_pacf_for_prediction/nonstationary/synthetic_trend_nonstationary_pacf_20220726173211_1.png'))"
   ]
  },
  {
   "cell_type": "code",
   "execution_count": 15,
   "id": "dd901b58-0e2e-449e-845c-ce47ed9dfa29",
   "metadata": {},
   "outputs": [
    {
     "data": {
      "text/plain": [
       "'/Users/tadatoshi/Documents/development/projects/tadatoshi_solar_research_society/time_series_plot_auto_analysis/data/plots/synthetic_pacf_for_prediction/nonstationary/synthetic_trend_nonstationary_pacf_20220726173211_1.png'"
      ]
     },
     "execution_count": 15,
     "metadata": {},
     "output_type": "execute_result"
    }
   ],
   "source": [
    "prediction_plot_file_path_2"
   ]
  },
  {
   "cell_type": "code",
   "execution_count": 16,
   "id": "ae61f07a-aff8-455e-a200-7c78d165fcf9",
   "metadata": {},
   "outputs": [
    {
     "name": "stdout",
     "output_type": "stream",
     "text": [
      "1/1 [==============================] - 0s 102ms/step\n"
     ]
    }
   ],
   "source": [
    "stationarity_2 = stationarity_detection.detect(models_path=models_path,\n",
    "                                               prediction_plot_file_path=prediction_plot_file_path_2)"
   ]
  },
  {
   "cell_type": "code",
   "execution_count": 17,
   "id": "84cb3b29-717e-4df2-8627-86a126e02f3b",
   "metadata": {},
   "outputs": [
    {
     "data": {
      "text/plain": [
       "<Stationarity.stationary: 'stationary'>"
      ]
     },
     "execution_count": 17,
     "metadata": {},
     "output_type": "execute_result"
    }
   ],
   "source": [
    "stationarity_2"
   ]
  },
  {
   "cell_type": "markdown",
   "id": "942bfa77-682f-4102-9aab-c85b64a67eb9",
   "metadata": {},
   "source": [
    "#### Detecting \"nonstationary failed simply because the plots didn't show any difference. "
   ]
  },
  {
   "cell_type": "markdown",
   "id": "dd0a0b83-39d4-4326-b48a-b120950de7d7",
   "metadata": {},
   "source": [
    " ### Try to detect \"nonstationary\" with better plots (with seasonality instead of trend because trend nonstationarity was not detected by PACF)"
   ]
  },
  {
   "cell_type": "markdown",
   "id": "7c4e5810-4363-453f-83b6-4c6fc5af56c4",
   "metadata": {},
   "source": [
    "#### Train and test with data from data/plots/synthetic_pacf_2 instead of data/plots/synthetic_pacf"
   ]
  },
  {
   "cell_type": "code",
   "execution_count": 18,
   "id": "3ea5ba8f-206b-4538-afd8-0b6121cc9ea2",
   "metadata": {},
   "outputs": [],
   "source": [
    "plots_directory_path_2 = os.path.abspath(os.path.join(os.path.realpath('.'), '../data/plots/synthetic_pacf_2'))"
   ]
  },
  {
   "cell_type": "code",
   "execution_count": 19,
   "id": "884dcbd9-e83f-40a7-b8d7-103065567538",
   "metadata": {},
   "outputs": [
    {
     "data": {
      "text/plain": [
       "'/Users/tadatoshi/Documents/development/projects/tadatoshi_solar_research_society/time_series_plot_auto_analysis/data/plots/synthetic_pacf_2'"
      ]
     },
     "execution_count": 19,
     "metadata": {},
     "output_type": "execute_result"
    }
   ],
   "source": [
    "plots_directory_path_2"
   ]
  },
  {
   "cell_type": "code",
   "execution_count": 20,
   "id": "3dfcb75a-9da3-4cff-afbe-0a36bab04685",
   "metadata": {},
   "outputs": [],
   "source": [
    "models_path_2 = os.path.abspath(os.path.join(os.path.realpath('.'), \n",
    "                                           '../tensorflow_models/saved_model/model_pacf_2'))"
   ]
  },
  {
   "cell_type": "code",
   "execution_count": 21,
   "id": "916482f9-9123-449d-a46a-4bff398eee7c",
   "metadata": {},
   "outputs": [
    {
     "data": {
      "text/plain": [
       "'/Users/tadatoshi/Documents/development/projects/tadatoshi_solar_research_society/time_series_plot_auto_analysis/tensorflow_models/saved_model/model_pacf_2'"
      ]
     },
     "execution_count": 21,
     "metadata": {},
     "output_type": "execute_result"
    }
   ],
   "source": [
    "models_path_2"
   ]
  },
  {
   "cell_type": "code",
   "execution_count": 22,
   "id": "0baee13c-d3c1-4bba-8ccf-0670e29962eb",
   "metadata": {},
   "outputs": [
    {
     "name": "stdout",
     "output_type": "stream",
     "text": [
      "Found 200 files belonging to 2 classes.\n",
      "Using 160 files for training.\n",
      "Found 200 files belonging to 2 classes.\n",
      "Using 40 files for validation.\n",
      "Epoch 1/3\n",
      "5/5 [==============================] - 13s 2s/step - loss: 6.1651 - accuracy: 0.4375 - val_loss: 1.3498 - val_accuracy: 0.5000\n",
      "Epoch 2/3\n",
      "5/5 [==============================] - 11s 2s/step - loss: 0.8820 - accuracy: 0.5500 - val_loss: 0.7227 - val_accuracy: 0.5000\n",
      "Epoch 3/3\n",
      "5/5 [==============================] - 14s 3s/step - loss: 0.7074 - accuracy: 0.4500 - val_loss: 0.6946 - val_accuracy: 0.5000\n"
     ]
    },
    {
     "name": "stderr",
     "output_type": "stream",
     "text": [
      "WARNING:absl:Found untraced functions such as _jit_compiled_convolution_op, _jit_compiled_convolution_op, _jit_compiled_convolution_op while saving (showing 3 of 3). These functions will not be directly callable after loading.\n"
     ]
    },
    {
     "name": "stdout",
     "output_type": "stream",
     "text": [
      "INFO:tensorflow:Assets written to: /Users/tadatoshi/Documents/development/projects/tadatoshi_solar_research_society/time_series_plot_auto_analysis/tensorflow_models/saved_model/model_pacf_2/assets\n"
     ]
    },
    {
     "name": "stderr",
     "output_type": "stream",
     "text": [
      "INFO:tensorflow:Assets written to: /Users/tadatoshi/Documents/development/projects/tadatoshi_solar_research_society/time_series_plot_auto_analysis/tensorflow_models/saved_model/model_pacf_2/assets\n"
     ]
    },
    {
     "data": {
      "text/plain": [
       "<keras.engine.sequential.Sequential at 0x15382a980>"
      ]
     },
     "execution_count": 22,
     "metadata": {},
     "output_type": "execute_result"
    }
   ],
   "source": [
    "stationarity_detection.train_model_and_save(plots_directory_path=plots_directory_path_2,\n",
    "                                            models_path=models_path_2)"
   ]
  },
  {
   "cell_type": "code",
   "execution_count": 23,
   "id": "87e8ee20-f0e7-4c46-9377-5d3ca0cf258c",
   "metadata": {},
   "outputs": [],
   "source": [
    "prediction_pacf_plot_file_path_2 = os.path.abspath(os.path.join(os.path.realpath('.'), \n",
    "        '../data/plots/synthetic_pacf_for_prediction_2/nonstationary/synthetic_seasonality_nonstationary_pacf_20220802202559_1.png'))"
   ]
  },
  {
   "cell_type": "code",
   "execution_count": 24,
   "id": "a3fba284-adf2-47ff-85c1-1e7d37051de3",
   "metadata": {},
   "outputs": [
    {
     "data": {
      "text/plain": [
       "'/Users/tadatoshi/Documents/development/projects/tadatoshi_solar_research_society/time_series_plot_auto_analysis/data/plots/synthetic_pacf_for_prediction_2/nonstationary/synthetic_seasonality_nonstationary_pacf_20220802202559_1.png'"
      ]
     },
     "execution_count": 24,
     "metadata": {},
     "output_type": "execute_result"
    }
   ],
   "source": [
    "prediction_pacf_plot_file_path_2"
   ]
  },
  {
   "cell_type": "code",
   "execution_count": 25,
   "id": "1544dd26-1c96-48f7-bce2-02179950aeee",
   "metadata": {},
   "outputs": [
    {
     "name": "stdout",
     "output_type": "stream",
     "text": [
      "1/1 [==============================] - 0s 119ms/step\n"
     ]
    }
   ],
   "source": [
    "pacf_stationarity_2 = stationarity_detection.detect(models_path=models_path_2,\n",
    "                                               prediction_plot_file_path=prediction_pacf_plot_file_path_2)"
   ]
  },
  {
   "cell_type": "code",
   "execution_count": 26,
   "id": "c764e436-d7f8-43b1-9af6-7c37cd93b36f",
   "metadata": {},
   "outputs": [
    {
     "data": {
      "text/plain": [
       "<Stationarity.stationary: 'stationary'>"
      ]
     },
     "execution_count": 26,
     "metadata": {},
     "output_type": "execute_result"
    }
   ],
   "source": [
    "pacf_stationarity_2"
   ]
  },
  {
   "cell_type": "markdown",
   "id": "87b25589-71a7-4dc3-8a65-d9e16443a4f3",
   "metadata": {},
   "source": [
    "### Still failed to detect 'nonstationary' from PACF plots. "
   ]
  },
  {
   "cell_type": "markdown",
   "id": "74e8b145-12bd-4feb-ba79-cbb4a9cd48cf",
   "metadata": {},
   "source": [
    "### Have to look into the nature of PACF plots and may have to accept this as a fact. "
   ]
  },
  {
   "cell_type": "code",
   "execution_count": null,
   "id": "80f036d3-546e-428b-8295-a997b1273b48",
   "metadata": {},
   "outputs": [],
   "source": []
  }
 ],
 "metadata": {
  "kernelspec": {
   "display_name": "Python 3 (ipykernel)",
   "language": "python",
   "name": "python3"
  },
  "language_info": {
   "codemirror_mode": {
    "name": "ipython",
    "version": 3
   },
   "file_extension": ".py",
   "mimetype": "text/x-python",
   "name": "python",
   "nbconvert_exporter": "python",
   "pygments_lexer": "ipython3",
   "version": "3.10.5"
  }
 },
 "nbformat": 4,
 "nbformat_minor": 5
}
