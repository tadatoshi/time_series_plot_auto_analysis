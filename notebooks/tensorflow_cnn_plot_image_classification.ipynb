{
 "cells": [
  {
   "cell_type": "markdown",
   "id": "23f4e567-e33d-403b-b6a8-b6d97e50ce28",
   "metadata": {},
   "source": [
    "## Trial to use Convolutional Neural Network (with Tensorflow) to detect variogram plot that implies stationary time series"
   ]
  },
  {
   "cell_type": "markdown",
   "id": "e78ee15f-3a38-4bc0-b9f7-57c9e1aa50eb",
   "metadata": {},
   "source": [
    "### Load and preprocess plot images"
   ]
  },
  {
   "cell_type": "markdown",
   "id": "d24d34a3-3ba5-42d7-b77e-3c016ad77c4e",
   "metadata": {},
   "source": [
    "#### Based on tutorial: https://www.tensorflow.org/tutorials/load_data/images"
   ]
  },
  {
   "cell_type": "code",
   "execution_count": 1,
   "id": "eb5f4f5f-53b7-42c9-bb9d-a3a7e913108e",
   "metadata": {},
   "outputs": [],
   "source": [
    "import numpy as np\n",
    "import os\n",
    "import PIL\n",
    "import PIL.Image\n",
    "import tensorflow as tf"
   ]
  },
  {
   "cell_type": "code",
   "execution_count": 2,
   "id": "a5af992a-d4da-439c-9e64-e628f9aaa587",
   "metadata": {},
   "outputs": [],
   "source": [
    "import matplotlib.pyplot as plt"
   ]
  },
  {
   "cell_type": "code",
   "execution_count": 3,
   "id": "4f08fc37-7dbe-4f99-b722-fe7880969cbf",
   "metadata": {},
   "outputs": [
    {
     "data": {
      "text/plain": [
       "'2.9.1'"
      ]
     },
     "execution_count": 3,
     "metadata": {},
     "output_type": "execute_result"
    }
   ],
   "source": [
    "tf.__version__"
   ]
  },
  {
   "cell_type": "markdown",
   "id": "f7496147-19fe-4fe9-bf99-7d582c4185f4",
   "metadata": {},
   "source": [
    "##### In order to get the format of data_dir (from example)"
   ]
  },
  {
   "cell_type": "code",
   "execution_count": 4,
   "id": "af76d4a0-71a7-482a-bfbb-e2b78311fe97",
   "metadata": {},
   "outputs": [],
   "source": [
    "dataset_url = \"https://storage.googleapis.com/download.tensorflow.org/example_images/flower_photos.tgz\"\n",
    "data_dir = tf.keras.utils.get_file(origin=dataset_url,\n",
    "                                   fname='flower_photos',\n",
    "                                   untar=True)"
   ]
  },
  {
   "cell_type": "code",
   "execution_count": 5,
   "id": "d8facd45-4669-44d3-9692-4fffc8e6140c",
   "metadata": {},
   "outputs": [
    {
     "data": {
      "text/plain": [
       "'/Users/tadatoshi/.keras/datasets/flower_photos'"
      ]
     },
     "execution_count": 5,
     "metadata": {},
     "output_type": "execute_result"
    }
   ],
   "source": [
    "data_dir"
   ]
  },
  {
   "cell_type": "markdown",
   "id": "aa6275c2-8475-4255-ad6c-af9c3b5aa488",
   "metadata": {},
   "source": [
    "##### So, it's just a string with absolute path"
   ]
  },
  {
   "cell_type": "code",
   "execution_count": 6,
   "id": "50a28ffe-d15f-4c80-b4df-dab044da946f",
   "metadata": {},
   "outputs": [
    {
     "data": {
      "text/plain": [
       "'/Users/tadatoshi/Documents/development/projects/tadatoshi_solar_research_society/time_series_plot_auto_analysis/notebooks'"
      ]
     },
     "execution_count": 6,
     "metadata": {},
     "output_type": "execute_result"
    }
   ],
   "source": [
    "os.path.realpath('.')"
   ]
  },
  {
   "cell_type": "markdown",
   "id": "2efb44b9-faa6-4be4-9c28-26e422140777",
   "metadata": {},
   "source": [
    "##### It seems that image label is based on the directory name that contains images. \n",
    "##### Thus, I will create two directory, \"stationary\" and \"nonstationary\" and place the corresponding plots under them manually. "
   ]
  },
  {
   "cell_type": "code",
   "execution_count": 7,
   "id": "e4b62168-8ce6-4984-9986-1b74c33a1ac0",
   "metadata": {},
   "outputs": [],
   "source": [
    "plots_data_dir = os.path.abspath(os.path.join(os.path.realpath('.'), '../plots/synthetic_variograms'))"
   ]
  },
  {
   "cell_type": "code",
   "execution_count": 8,
   "id": "e6ae7918-1da7-4d32-997e-666f3a8fed77",
   "metadata": {},
   "outputs": [
    {
     "data": {
      "text/plain": [
       "'/Users/tadatoshi/Documents/development/projects/tadatoshi_solar_research_society/time_series_plot_auto_analysis/plots/synthetic_variograms'"
      ]
     },
     "execution_count": 8,
     "metadata": {},
     "output_type": "execute_result"
    }
   ],
   "source": [
    "plots_data_dir"
   ]
  },
  {
   "cell_type": "markdown",
   "id": "789b3afe-f2ee-4dfd-a5cc-fc9a9c83c624",
   "metadata": {},
   "source": [
    "##### Get image size"
   ]
  },
  {
   "cell_type": "markdown",
   "id": "920062fd-7e89-4cc4-92c4-4df808cfbb2d",
   "metadata": {},
   "source": [
    "##### Based on https://note.nkmk.me/en/python-opencv-pillow-image-size/"
   ]
  },
  {
   "cell_type": "code",
   "execution_count": 9,
   "id": "1e63b797-9ce8-484a-b176-227443a958cd",
   "metadata": {},
   "outputs": [],
   "source": [
    "import cv2"
   ]
  },
  {
   "cell_type": "code",
   "execution_count": 10,
   "id": "792fb524-c114-4d8f-9ef4-69f8953c4da5",
   "metadata": {},
   "outputs": [],
   "source": [
    "image_1 = cv2.imread(os.path.join(plots_data_dir, 'stationary/synthetic_variogram_20220629150855_3.png'))"
   ]
  },
  {
   "cell_type": "code",
   "execution_count": 11,
   "id": "84d39932-bf4d-4f65-bb78-8c4f677bb4de",
   "metadata": {},
   "outputs": [
    {
     "data": {
      "text/plain": [
       "numpy.ndarray"
      ]
     },
     "execution_count": 11,
     "metadata": {},
     "output_type": "execute_result"
    }
   ],
   "source": [
    "type(image_1)"
   ]
  },
  {
   "cell_type": "code",
   "execution_count": 12,
   "id": "bd4c6be0-ab72-4c05-b719-c6acf57211ff",
   "metadata": {},
   "outputs": [
    {
     "data": {
      "text/plain": [
       "(288, 432, 3)"
      ]
     },
     "execution_count": 12,
     "metadata": {},
     "output_type": "execute_result"
    }
   ],
   "source": [
    "image_1.shape"
   ]
  },
  {
   "cell_type": "markdown",
   "id": "e9943929-94a1-4ef6-9bc8-be462a1cef77",
   "metadata": {},
   "source": [
    "### Create a dataset"
   ]
  },
  {
   "cell_type": "code",
   "execution_count": 13,
   "id": "1cca9452-d36e-479b-9b14-ad4c38083ddc",
   "metadata": {},
   "outputs": [],
   "source": [
    "batch_size = 32\n",
    "img_height = 288\n",
    "img_width = 432"
   ]
  },
  {
   "cell_type": "code",
   "execution_count": 14,
   "id": "78bd7796-d74a-4254-b704-dbab87dfb755",
   "metadata": {},
   "outputs": [
    {
     "name": "stdout",
     "output_type": "stream",
     "text": [
      "Found 100 files belonging to 2 classes.\n",
      "Using 80 files for training.\n"
     ]
    },
    {
     "name": "stderr",
     "output_type": "stream",
     "text": [
      "2022-07-01 12:57:33.194385: I tensorflow/core/platform/cpu_feature_guard.cc:193] This TensorFlow binary is optimized with oneAPI Deep Neural Network Library (oneDNN) to use the following CPU instructions in performance-critical operations:  AVX2 FMA\n",
      "To enable them in other operations, rebuild TensorFlow with the appropriate compiler flags.\n"
     ]
    }
   ],
   "source": [
    "train_ds = tf.keras.utils.image_dataset_from_directory(\n",
    "  plots_data_dir,\n",
    "  validation_split=0.2,\n",
    "  subset=\"training\",\n",
    "  seed=123,\n",
    "  image_size=(img_height, img_width),\n",
    "  batch_size=batch_size)"
   ]
  },
  {
   "cell_type": "code",
   "execution_count": 15,
   "id": "deb587e2-a4c9-45cf-99fe-e2a839169222",
   "metadata": {},
   "outputs": [
    {
     "name": "stdout",
     "output_type": "stream",
     "text": [
      "Found 100 files belonging to 2 classes.\n",
      "Using 20 files for validation.\n"
     ]
    }
   ],
   "source": [
    "val_ds = tf.keras.utils.image_dataset_from_directory(\n",
    "  plots_data_dir,\n",
    "  validation_split=0.2,\n",
    "  subset=\"validation\",\n",
    "  seed=123,\n",
    "  image_size=(img_height, img_width),\n",
    "  batch_size=batch_size)"
   ]
  },
  {
   "cell_type": "code",
   "execution_count": 16,
   "id": "9678d7b2-e4eb-4577-a424-d78b5cc5da65",
   "metadata": {},
   "outputs": [
    {
     "data": {
      "text/plain": [
       "['nonstationary', 'stationary']"
      ]
     },
     "execution_count": 16,
     "metadata": {},
     "output_type": "execute_result"
    }
   ],
   "source": [
    "class_names = train_ds.class_names\n",
    "class_names"
   ]
  },
  {
   "cell_type": "markdown",
   "id": "33c2c7b9-a2da-456f-8d61-48e40b4dc002",
   "metadata": {},
   "source": [
    "### Visualize the data"
   ]
  },
  {
   "cell_type": "markdown",
   "id": "64448b5a-233b-42f7-bc6c-a59ac825e807",
   "metadata": {},
   "source": [
    "#### First 9 images from the training dataset"
   ]
  },
  {
   "cell_type": "code",
   "execution_count": 17,
   "id": "37842b41-4d80-43d5-99f0-44b3df98d83c",
   "metadata": {},
   "outputs": [
    {
     "data": {
      "image/png": "[encoded data removed]",
      "text/plain": [
       "<Figure size 720x720 with 9 Axes>"
      ]
     },
     "metadata": {
      "needs_background": "light"
     },
     "output_type": "display_data"
    }
   ],
   "source": [
    "plt.figure(figsize=(10, 10))\n",
    "for images, labels in train_ds.take(1):\n",
    "  for i in range(9):\n",
    "    ax = plt.subplot(3, 3, i + 1)\n",
    "    plt.imshow(images[i].numpy().astype(\"uint8\"))\n",
    "    plt.title(class_names[labels[i]])\n",
    "    plt.axis(\"off\")"
   ]
  },
  {
   "cell_type": "code",
   "execution_count": 18,
   "id": "6d12a01a-34c0-40b3-b42d-299927131ccc",
   "metadata": {},
   "outputs": [
    {
     "name": "stdout",
     "output_type": "stream",
     "text": [
      "(32, 288, 432, 3)\n",
      "(32,)\n"
     ]
    }
   ],
   "source": [
    "for image_batch, labels_batch in train_ds:\n",
    "  print(image_batch.shape)\n",
    "  print(labels_batch.shape)\n",
    "  break"
   ]
  },
  {
   "cell_type": "markdown",
   "id": "05260381-a240-4728-8849-c36c26fee987",
   "metadata": {},
   "source": [
    "### Configure the dataset for performance"
   ]
  },
  {
   "cell_type": "code",
   "execution_count": 19,
   "id": "cdc25413-6dfe-46b0-b562-1e270a787c8e",
   "metadata": {},
   "outputs": [],
   "source": [
    "AUTOTUNE = tf.data.AUTOTUNE\n",
    "\n",
    "train_ds = train_ds.cache().prefetch(buffer_size=AUTOTUNE)\n",
    "val_ds = val_ds.cache().prefetch(buffer_size=AUTOTUNE)"
   ]
  },
  {
   "cell_type": "markdown",
   "id": "b7866c08-d8f9-41c6-a37c-d1c0d607654a",
   "metadata": {},
   "source": [
    "### Train a model"
   ]
  },
  {
   "cell_type": "markdown",
   "id": "71684f83-67b0-4883-a318-4cdfc30a5c72",
   "metadata": {},
   "source": [
    "#### Try with the same layers as the tutorial even though I am not sure if it's too much for the simple images of plots."
   ]
  },
  {
   "cell_type": "code",
   "execution_count": 20,
   "id": "cb456e18-68a8-42e7-95d8-586782e2c433",
   "metadata": {},
   "outputs": [],
   "source": [
    "num_classes = 2\n",
    "\n",
    "model = tf.keras.Sequential([\n",
    "  tf.keras.layers.Rescaling(1./255),\n",
    "  tf.keras.layers.Conv2D(32, 3, activation='relu'),\n",
    "  tf.keras.layers.MaxPooling2D(),\n",
    "  tf.keras.layers.Conv2D(32, 3, activation='relu'),\n",
    "  tf.keras.layers.MaxPooling2D(),\n",
    "  tf.keras.layers.Conv2D(32, 3, activation='relu'),\n",
    "  tf.keras.layers.MaxPooling2D(),\n",
    "  tf.keras.layers.Flatten(),\n",
    "  tf.keras.layers.Dense(128, activation='relu'),\n",
    "  tf.keras.layers.Dense(num_classes)\n",
    "])"
   ]
  },
  {
   "cell_type": "code",
   "execution_count": 21,
   "id": "969bf7a5-8e13-4699-8616-fd24af92bfd5",
   "metadata": {},
   "outputs": [],
   "source": [
    "model.compile(\n",
    "    optimizer='adam',\n",
    "    loss=tf.losses.SparseCategoricalCrossentropy(from_logits=True),\n",
    "    metrics=['accuracy'])"
   ]
  },
  {
   "cell_type": "code",
   "execution_count": 22,
   "id": "59bab2e1-ee70-4eca-8cca-7f800b0e15bd",
   "metadata": {},
   "outputs": [
    {
     "name": "stdout",
     "output_type": "stream",
     "text": [
      "Epoch 1/3\n",
      "3/3 [==============================] - 9s 2s/step - loss: 4.2121 - accuracy: 0.5250 - val_loss: 2.6780 - val_accuracy: 0.5000\n",
      "Epoch 2/3\n",
      "3/3 [==============================] - 7s 2s/step - loss: 1.2784 - accuracy: 0.4750 - val_loss: 0.9314 - val_accuracy: 0.5000\n",
      "Epoch 3/3\n",
      "3/3 [==============================] - 7s 2s/step - loss: 0.7139 - accuracy: 0.7000 - val_loss: 0.7271 - val_accuracy: 0.5000\n"
     ]
    },
    {
     "data": {
      "text/plain": [
       "<keras.callbacks.History at 0x14efc03d0>"
      ]
     },
     "execution_count": 22,
     "metadata": {},
     "output_type": "execute_result"
    }
   ],
   "source": [
    "model.fit(\n",
    "    train_ds,\n",
    "    validation_data=val_ds,\n",
    "    epochs=3\n",
    ")"
   ]
  },
  {
   "cell_type": "markdown",
   "id": "8e85fdfd-5304-4af6-a12d-0e13497769f0",
   "metadata": {},
   "source": [
    "#### The tutorial goes on for custom data loading for better performance. \n",
    "#### But what has been done is sufficient for the porpose, so continue on prediction. "
   ]
  },
  {
   "cell_type": "markdown",
   "id": "78611dca-297a-4c75-b384-814c4569de19",
   "metadata": {},
   "source": [
    "#### Back to following Image Classificaton tutorial https://www.tensorflow.org/tutorials/images/classification"
   ]
  },
  {
   "cell_type": "code",
   "execution_count": 23,
   "id": "8fe0a4ce-54d6-4b0f-97ab-8cb14e6c01bc",
   "metadata": {},
   "outputs": [
    {
     "name": "stdout",
     "output_type": "stream",
     "text": [
      "Model: \"sequential\"\n",
      "_________________________________________________________________\n",
      " Layer (type)                Output Shape              Param #   \n",
      "=================================================================\n",
      " rescaling (Rescaling)       (None, 288, 432, 3)       0         \n",
      "                                                                 \n",
      " conv2d (Conv2D)             (None, 286, 430, 32)      896       \n",
      "                                                                 \n",
      " max_pooling2d (MaxPooling2D  (None, 143, 215, 32)     0         \n",
      " )                                                               \n",
      "                                                                 \n",
      " conv2d_1 (Conv2D)           (None, 141, 213, 32)      9248      \n",
      "                                                                 \n",
      " max_pooling2d_1 (MaxPooling  (None, 70, 106, 32)      0         \n",
      " 2D)                                                             \n",
      "                                                                 \n",
      " conv2d_2 (Conv2D)           (None, 68, 104, 32)       9248      \n",
      "                                                                 \n",
      " max_pooling2d_2 (MaxPooling  (None, 34, 52, 32)       0         \n",
      " 2D)                                                             \n",
      "                                                                 \n",
      " flatten (Flatten)           (None, 56576)             0         \n",
      "                                                                 \n",
      " dense (Dense)               (None, 128)               7241856   \n",
      "                                                                 \n",
      " dense_1 (Dense)             (None, 2)                 258       \n",
      "                                                                 \n",
      "=================================================================\n",
      "Total params: 7,261,506\n",
      "Trainable params: 7,261,506\n",
      "Non-trainable params: 0\n",
      "_________________________________________________________________\n"
     ]
    }
   ],
   "source": [
    "model.summary()"
   ]
  },
  {
   "cell_type": "markdown",
   "id": "a46153b6-7b85-43d7-9005-a29f7d081954",
   "metadata": {},
   "source": [
    "### Visualize training results"
   ]
  },
  {
   "cell_type": "code",
   "execution_count": 25,
   "id": "731b96df-d4fb-4872-89ae-54f856cdf96f",
   "metadata": {},
   "outputs": [
    {
     "data": {
      "text/plain": [
       "<keras.callbacks.History at 0x14efc03d0>"
      ]
     },
     "execution_count": 25,
     "metadata": {},
     "output_type": "execute_result"
    }
   ],
   "source": [
    "model.history"
   ]
  },
  {
   "cell_type": "code",
   "execution_count": 27,
   "id": "946bd7f9-bb3e-465e-881a-e593913b36df",
   "metadata": {},
   "outputs": [
    {
     "data": {
      "text/plain": [
       "Text(0.5, 1.0, 'Training and Validation Loss')"
      ]
     },
     "execution_count": 27,
     "metadata": {},
     "output_type": "execute_result"
    },
    {
     "data": {
      "image/png": "[encoded data removed]",
      "text/plain": [
       "<Figure size 576x576 with 2 Axes>"
      ]
     },
     "metadata": {
      "needs_background": "light"
     },
     "output_type": "display_data"
    }
   ],
   "source": [
    "epochs=3\n",
    "\n",
    "acc = model.history.history['accuracy']\n",
    "val_acc = model.history.history['val_accuracy']\n",
    "\n",
    "loss = model.history.history['loss']\n",
    "val_loss = model.history.history['val_loss']\n",
    "\n",
    "epochs_range = range(epochs)\n",
    "\n",
    "plt.figure(figsize=(8, 8))\n",
    "plt.subplot(1, 2, 1)\n",
    "plt.plot(epochs_range, acc, label='Training Accuracy')\n",
    "plt.plot(epochs_range, val_acc, label='Validation Accuracy')\n",
    "plt.legend(loc='lower right')\n",
    "plt.title('Training and Validation Accuracy')\n",
    "\n",
    "plt.subplot(1, 2, 2)\n",
    "plt.plot(epochs_range, loss, label='Training Loss')\n",
    "plt.plot(epochs_range, val_loss, label='Validation Loss')\n",
    "plt.legend(loc='upper right')\n",
    "plt.title('Training and Validation Loss')"
   ]
  },
  {
   "cell_type": "markdown",
   "id": "90e26ae8-4cf3-4661-a56f-ebdc09e7657b",
   "metadata": {},
   "source": [
    "### Predict on new data"
   ]
  },
  {
   "cell_type": "code",
   "execution_count": 30,
   "id": "0617e719-dd36-410d-9935-72819ba80f4a",
   "metadata": {},
   "outputs": [],
   "source": [
    "new_stationary_plot_1_path = os.path.join(plots_data_dir, \n",
    "                                     'new_data_for_prediction/stationary/synthetic_variogram_20220701133525_2.png')\n",
    "\n",
    "new_stationary_plot_1 = tf.keras.utils.load_img(\n",
    "    new_stationary_plot_1_path, target_size=(img_height, img_width)\n",
    ")"
   ]
  },
  {
   "cell_type": "code",
   "execution_count": 32,
   "id": "13b92d4d-c4f5-4d46-8a5e-b02fda83ece4",
   "metadata": {},
   "outputs": [
    {
     "data": {
      "text/plain": [
       "(-0.5, 431.5, 287.5, -0.5)"
      ]
     },
     "execution_count": 32,
     "metadata": {},
     "output_type": "execute_result"
    },
    {
     "data": {
      "image/png": "[encoded data removed]",
      "text/plain": [
       "<Figure size 432x288 with 1 Axes>"
      ]
     },
     "metadata": {
      "needs_background": "light"
     },
     "output_type": "display_data"
    }
   ],
   "source": [
    "plt.imshow(new_stationary_plot_1)\n",
    "plt.axis('off')"
   ]
  },
  {
   "cell_type": "code",
   "execution_count": 34,
   "id": "7fafd274-e5db-40e4-aa25-3c623724bd50",
   "metadata": {},
   "outputs": [],
   "source": [
    "new_stationary_plot_array_1 = tf.keras.utils.img_to_array(new_stationary_plot_1)"
   ]
  },
  {
   "cell_type": "code",
   "execution_count": 36,
   "id": "1067c5cf-3277-48a8-8a39-77418142897f",
   "metadata": {},
   "outputs": [
    {
     "data": {
      "text/plain": [
       "numpy.ndarray"
      ]
     },
     "execution_count": 36,
     "metadata": {},
     "output_type": "execute_result"
    }
   ],
   "source": [
    "type(new_stationary_plot_array_1)"
   ]
  },
  {
   "cell_type": "code",
   "execution_count": 37,
   "id": "f07977b8-7c7b-4d7e-a842-bc2b4cb5b8b8",
   "metadata": {},
   "outputs": [
    {
     "data": {
      "text/plain": [
       "(288, 432, 3)"
      ]
     },
     "execution_count": 37,
     "metadata": {},
     "output_type": "execute_result"
    }
   ],
   "source": [
    "new_stationary_plot_array_1.shape"
   ]
  },
  {
   "cell_type": "code",
   "execution_count": 38,
   "id": "a7453ccf-0494-4f48-8ead-e0cde8766ecd",
   "metadata": {},
   "outputs": [],
   "source": [
    "new_stationary_plot_array_1 = tf.expand_dims(new_stationary_plot_array_1, 0) # Create a batch"
   ]
  },
  {
   "cell_type": "code",
   "execution_count": 40,
   "id": "1960f6ad-cc5f-4398-b72b-24c1e3c5cd9d",
   "metadata": {},
   "outputs": [
    {
     "data": {
      "text/plain": [
       "TensorShape([1, 288, 432, 3])"
      ]
     },
     "execution_count": 40,
     "metadata": {},
     "output_type": "execute_result"
    }
   ],
   "source": [
    "new_stationary_plot_array_1.shape"
   ]
  },
  {
   "cell_type": "code",
   "execution_count": 39,
   "id": "4a2fe231-f475-46ac-9022-2ff0d18949e4",
   "metadata": {},
   "outputs": [
    {
     "name": "stdout",
     "output_type": "stream",
     "text": [
      "1/1 [==============================] - 0s 177ms/step\n"
     ]
    }
   ],
   "source": [
    "new_stationary_plot_array_1_predictions = model.predict(new_stationary_plot_array_1)"
   ]
  },
  {
   "cell_type": "code",
   "execution_count": 41,
   "id": "9b5ed452-5d6b-4da2-b2cc-2e8ec320c628",
   "metadata": {},
   "outputs": [
    {
     "data": {
      "text/plain": [
       "(1, 2)"
      ]
     },
     "execution_count": 41,
     "metadata": {},
     "output_type": "execute_result"
    }
   ],
   "source": [
    "new_stationary_plot_array_1_predictions.shape"
   ]
  },
  {
   "cell_type": "code",
   "execution_count": 42,
   "id": "67c6d33e-a0a0-4940-8f41-91c10ada96c6",
   "metadata": {},
   "outputs": [
    {
     "data": {
      "text/plain": [
       "array([[ 0.4271328, -0.11301  ]], dtype=float32)"
      ]
     },
     "execution_count": 42,
     "metadata": {},
     "output_type": "execute_result"
    }
   ],
   "source": [
    "new_stationary_plot_array_1_predictions"
   ]
  },
  {
   "cell_type": "code",
   "execution_count": 45,
   "id": "cd828b39-0404-4976-a9a1-ade124b34ee1",
   "metadata": {},
   "outputs": [],
   "source": [
    "new_stationary_plot_array_1_score = tf.nn.softmax(new_stationary_plot_array_1_predictions[0])"
   ]
  },
  {
   "cell_type": "code",
   "execution_count": 46,
   "id": "66b0501b-ce48-485f-8886-2328215df313",
   "metadata": {},
   "outputs": [
    {
     "data": {
      "text/plain": [
       "<tf.Tensor: shape=(2,), dtype=float32, numpy=array([0.6318456 , 0.36815438], dtype=float32)>"
      ]
     },
     "execution_count": 46,
     "metadata": {},
     "output_type": "execute_result"
    }
   ],
   "source": [
    "new_stationary_plot_array_1_score"
   ]
  },
  {
   "cell_type": "code",
   "execution_count": 60,
   "id": "7d0dce66-ec6e-434c-8208-aab2b6267a8b",
   "metadata": {},
   "outputs": [
    {
     "data": {
      "text/plain": [
       "'This image most likely belongs to nonstationary with a 63.18 percent confidence.'"
      ]
     },
     "execution_count": 60,
     "metadata": {},
     "output_type": "execute_result"
    }
   ],
   "source": [
    "f\"This image most likely belongs to {class_names[np.argmax(new_stationary_plot_array_1_score)]} with a {100 * np.max(new_stationary_plot_array_1_score):.2f} percent confidence.\""
   ]
  },
  {
   "cell_type": "markdown",
   "id": "9a531423-c8b2-4a87-a069-e950b888a6d4",
   "metadata": {},
   "source": [
    "##### Incorrect prediction but the confidence is low as well."
   ]
  },
  {
   "cell_type": "markdown",
   "id": "a272d2fb-843c-4ae3-acb1-339b037f6c4a",
   "metadata": {},
   "source": [
    "#### Another new data"
   ]
  },
  {
   "cell_type": "code",
   "execution_count": 48,
   "id": "1cfe9d79-7fbf-48f3-91c1-a4c4956cc98b",
   "metadata": {},
   "outputs": [],
   "source": [
    "new_stationary_plot_2_path = os.path.join(plots_data_dir, \n",
    "                                     'new_data_for_prediction/stationary/synthetic_variogram_20220701133525_3.png')\n",
    "\n",
    "new_stationary_plot_2 = tf.keras.utils.load_img(\n",
    "    new_stationary_plot_2_path, target_size=(img_height, img_width)\n",
    ")"
   ]
  },
  {
   "cell_type": "code",
   "execution_count": 49,
   "id": "e16ad0dc-b4a9-4e40-bc87-7ef6aefb06b9",
   "metadata": {},
   "outputs": [
    {
     "data": {
      "text/plain": [
       "(-0.5, 431.5, 287.5, -0.5)"
      ]
     },
     "execution_count": 49,
     "metadata": {},
     "output_type": "execute_result"
    },
    {
     "data": {
      "image/png": "[encoded data removed]",
      "text/plain": [
       "<Figure size 432x288 with 1 Axes>"
      ]
     },
     "metadata": {
      "needs_background": "light"
     },
     "output_type": "display_data"
    }
   ],
   "source": [
    "plt.imshow(new_stationary_plot_2)\n",
    "plt.axis('off')"
   ]
  },
  {
   "cell_type": "code",
   "execution_count": 50,
   "id": "64a10520-45e1-4a18-827e-6b46d698715f",
   "metadata": {},
   "outputs": [],
   "source": [
    "new_stationary_plot_array_2 = tf.keras.utils.img_to_array(new_stationary_plot_2)"
   ]
  },
  {
   "cell_type": "code",
   "execution_count": 51,
   "id": "1caab955-ef6c-42f2-b1d4-63f7baf7b2a5",
   "metadata": {},
   "outputs": [],
   "source": [
    "new_stationary_plot_array_2 = tf.expand_dims(new_stationary_plot_array_2, 0) # Create a batch"
   ]
  },
  {
   "cell_type": "code",
   "execution_count": 52,
   "id": "6b65a0c7-7428-4bef-ac6e-187b7b5d82fe",
   "metadata": {},
   "outputs": [
    {
     "name": "stdout",
     "output_type": "stream",
     "text": [
      "1/1 [==============================] - 0s 77ms/step\n"
     ]
    }
   ],
   "source": [
    "new_stationary_plot_array_2_predictions = model.predict(new_stationary_plot_array_2)"
   ]
  },
  {
   "cell_type": "code",
   "execution_count": 53,
   "id": "d2daa39b-9a60-41cf-91fb-2777d8281e8a",
   "metadata": {},
   "outputs": [
    {
     "data": {
      "text/plain": [
       "array([[ 0.41354033, -0.10821091]], dtype=float32)"
      ]
     },
     "execution_count": 53,
     "metadata": {},
     "output_type": "execute_result"
    }
   ],
   "source": [
    "new_stationary_plot_array_2_predictions"
   ]
  },
  {
   "cell_type": "code",
   "execution_count": 54,
   "id": "93c0798e-5ea8-444d-a863-484bae3c9503",
   "metadata": {},
   "outputs": [],
   "source": [
    "new_stationary_plot_array_2_score = tf.nn.softmax(new_stationary_plot_array_2_predictions[0])"
   ]
  },
  {
   "cell_type": "code",
   "execution_count": 55,
   "id": "df8014d8-a845-4509-b632-c45e3f544aff",
   "metadata": {},
   "outputs": [
    {
     "data": {
      "text/plain": [
       "<tf.Tensor: shape=(2,), dtype=float32, numpy=array([0.62755716, 0.37244284], dtype=float32)>"
      ]
     },
     "execution_count": 55,
     "metadata": {},
     "output_type": "execute_result"
    }
   ],
   "source": [
    "new_stationary_plot_array_2_score"
   ]
  },
  {
   "cell_type": "code",
   "execution_count": 59,
   "id": "32bc0cc3-efbf-4bf5-b4ca-c94724c93332",
   "metadata": {},
   "outputs": [
    {
     "data": {
      "text/plain": [
       "'This image most likely belongs to nonstationary with a 62.76 percent confidence.'"
      ]
     },
     "execution_count": 59,
     "metadata": {},
     "output_type": "execute_result"
    }
   ],
   "source": [
    "f\"This image most likely belongs to {class_names[np.argmax(new_stationary_plot_array_2_score)]} with a {100 * np.max(new_stationary_plot_array_2_score):.2f} percent confidence.\""
   ]
  },
  {
   "cell_type": "markdown",
   "id": "f7d01cc6-e1f6-4ffc-8320-eafff5911449",
   "metadata": {},
   "source": [
    "##### Again, incorrect prediction with low confidence."
   ]
  },
  {
   "cell_type": "markdown",
   "id": "a33e0af5-ee48-460a-8997-0dbb37ae0ab9",
   "metadata": {},
   "source": [
    "### Try more epochs to see if that increases accuracy"
   ]
  },
  {
   "cell_type": "code",
   "execution_count": 62,
   "id": "636b12f8-6ea1-49c0-ab7e-8fb8a701f531",
   "metadata": {},
   "outputs": [],
   "source": [
    "model_2 = tf.keras.Sequential([\n",
    "  tf.keras.layers.Rescaling(1./255),\n",
    "  tf.keras.layers.Conv2D(32, 3, activation='relu'),\n",
    "  tf.keras.layers.MaxPooling2D(),\n",
    "  tf.keras.layers.Conv2D(32, 3, activation='relu'),\n",
    "  tf.keras.layers.MaxPooling2D(),\n",
    "  tf.keras.layers.Conv2D(32, 3, activation='relu'),\n",
    "  tf.keras.layers.MaxPooling2D(),\n",
    "  tf.keras.layers.Flatten(),\n",
    "  tf.keras.layers.Dense(128, activation='relu'),\n",
    "  tf.keras.layers.Dense(num_classes)\n",
    "])"
   ]
  },
  {
   "cell_type": "code",
   "execution_count": 63,
   "id": "fa30ec87-8906-4b2b-84d5-612f32aa055c",
   "metadata": {},
   "outputs": [],
   "source": [
    "model_2.compile(\n",
    "    optimizer='adam',\n",
    "    loss=tf.losses.SparseCategoricalCrossentropy(from_logits=True),\n",
    "    metrics=['accuracy'])"
   ]
  },
  {
   "cell_type": "code",
   "execution_count": 64,
   "id": "2044c67b-ba65-4996-b983-9afc390d229d",
   "metadata": {},
   "outputs": [
    {
     "name": "stdout",
     "output_type": "stream",
     "text": [
      "Epoch 1/10\n",
      "3/3 [==============================] - 8s 2s/step - loss: 2.3770 - accuracy: 0.6750 - val_loss: 0.6924 - val_accuracy: 0.5000\n",
      "Epoch 2/10\n",
      "3/3 [==============================] - 6s 2s/step - loss: 0.7374 - accuracy: 0.3000 - val_loss: 0.6934 - val_accuracy: 0.5000\n",
      "Epoch 3/10\n",
      "3/3 [==============================] - 7s 2s/step - loss: 0.6754 - accuracy: 0.7000 - val_loss: 0.7505 - val_accuracy: 0.5000\n",
      "Epoch 4/10\n",
      "3/3 [==============================] - 7s 2s/step - loss: 0.6232 - accuracy: 0.7000 - val_loss: 0.7836 - val_accuracy: 0.5000\n",
      "Epoch 5/10\n",
      "3/3 [==============================] - 8s 2s/step - loss: 0.6108 - accuracy: 0.7000 - val_loss: 0.7547 - val_accuracy: 0.5000\n",
      "Epoch 6/10\n",
      "3/3 [==============================] - 7s 2s/step - loss: 0.6066 - accuracy: 0.7000 - val_loss: 0.7177 - val_accuracy: 0.5000\n",
      "Epoch 7/10\n",
      "3/3 [==============================] - 8s 2s/step - loss: 0.6199 - accuracy: 0.7000 - val_loss: 0.7293 - val_accuracy: 0.5000\n",
      "Epoch 8/10\n",
      "3/3 [==============================] - 8s 3s/step - loss: 0.6071 - accuracy: 0.7000 - val_loss: 0.7332 - val_accuracy: 0.5000\n",
      "Epoch 9/10\n",
      "3/3 [==============================] - 9s 3s/step - loss: 0.5963 - accuracy: 0.7000 - val_loss: 0.7292 - val_accuracy: 0.5000\n",
      "Epoch 10/10\n",
      "3/3 [==============================] - 8s 3s/step - loss: 0.5830 - accuracy: 0.7000 - val_loss: 0.7375 - val_accuracy: 0.5000\n"
     ]
    },
    {
     "data": {
      "text/plain": [
       "<keras.callbacks.History at 0x150829e70>"
      ]
     },
     "execution_count": 64,
     "metadata": {},
     "output_type": "execute_result"
    }
   ],
   "source": [
    "model_2.fit(\n",
    "    train_ds,\n",
    "    validation_data=val_ds,\n",
    "    epochs=10\n",
    ")"
   ]
  },
  {
   "cell_type": "markdown",
   "id": "7ebb311b-0672-446a-8791-6fe563c04898",
   "metadata": {},
   "source": [
    "#### Accuracy stays at 0.7000 after epoch 3. "
   ]
  },
  {
   "cell_type": "markdown",
   "id": "b4da4d35-2c2d-4484-907a-63bff5171cb8",
   "metadata": {},
   "source": [
    "### Try model with Conv2D layers with increasing number of parameters"
   ]
  },
  {
   "cell_type": "code",
   "execution_count": 67,
   "id": "db364145-9222-4cc0-9880-811e5979cb10",
   "metadata": {},
   "outputs": [],
   "source": [
    "model_3 = tf.keras.Sequential([\n",
    "  tf.keras.layers.Rescaling(1./255, input_shape=(img_height, img_width, 3)),\n",
    "  tf.keras.layers.Conv2D(16, 3, activation='relu'),\n",
    "  tf.keras.layers.MaxPooling2D(),\n",
    "  tf.keras.layers.Conv2D(32, 3, activation='relu'),\n",
    "  tf.keras.layers.MaxPooling2D(),\n",
    "  tf.keras.layers.Conv2D(64, 3, activation='relu'),\n",
    "  tf.keras.layers.MaxPooling2D(),\n",
    "  tf.keras.layers.Flatten(),\n",
    "  tf.keras.layers.Dense(128, activation='relu'),\n",
    "  tf.keras.layers.Dense(num_classes)\n",
    "])"
   ]
  },
  {
   "cell_type": "code",
   "execution_count": 68,
   "id": "beac932b-ced9-40c4-bbe1-1b808381e331",
   "metadata": {},
   "outputs": [],
   "source": [
    "model_3.compile(\n",
    "    optimizer='adam',\n",
    "    loss=tf.losses.SparseCategoricalCrossentropy(from_logits=True),\n",
    "    metrics=['accuracy'])"
   ]
  },
  {
   "cell_type": "code",
   "execution_count": 69,
   "id": "cdfde98c-3fff-4b6d-bca4-347a1fa288b5",
   "metadata": {},
   "outputs": [
    {
     "name": "stdout",
     "output_type": "stream",
     "text": [
      "Model: \"sequential_3\"\n",
      "_________________________________________________________________\n",
      " Layer (type)                Output Shape              Param #   \n",
      "=================================================================\n",
      " rescaling_3 (Rescaling)     (None, 288, 432, 3)       0         \n",
      "                                                                 \n",
      " conv2d_9 (Conv2D)           (None, 286, 430, 16)      448       \n",
      "                                                                 \n",
      " max_pooling2d_9 (MaxPooling  (None, 143, 215, 16)     0         \n",
      " 2D)                                                             \n",
      "                                                                 \n",
      " conv2d_10 (Conv2D)          (None, 141, 213, 32)      4640      \n",
      "                                                                 \n",
      " max_pooling2d_10 (MaxPoolin  (None, 70, 106, 32)      0         \n",
      " g2D)                                                            \n",
      "                                                                 \n",
      " conv2d_11 (Conv2D)          (None, 68, 104, 64)       18496     \n",
      "                                                                 \n",
      " max_pooling2d_11 (MaxPoolin  (None, 34, 52, 64)       0         \n",
      " g2D)                                                            \n",
      "                                                                 \n",
      " flatten_3 (Flatten)         (None, 113152)            0         \n",
      "                                                                 \n",
      " dense_6 (Dense)             (None, 128)               14483584  \n",
      "                                                                 \n",
      " dense_7 (Dense)             (None, 2)                 258       \n",
      "                                                                 \n",
      "=================================================================\n",
      "Total params: 14,507,426\n",
      "Trainable params: 14,507,426\n",
      "Non-trainable params: 0\n",
      "_________________________________________________________________\n"
     ]
    }
   ],
   "source": [
    "model_3.summary()"
   ]
  },
  {
   "cell_type": "code",
   "execution_count": 70,
   "id": "44474ba2-50c5-498c-87d0-a9c2277519f5",
   "metadata": {},
   "outputs": [
    {
     "name": "stdout",
     "output_type": "stream",
     "text": [
      "Epoch 1/10\n",
      "3/3 [==============================] - 8s 2s/step - loss: 5.8928 - accuracy: 0.5250 - val_loss: 3.1328 - val_accuracy: 0.5000\n",
      "Epoch 2/10\n",
      "3/3 [==============================] - 7s 2s/step - loss: 1.5568 - accuracy: 0.4500 - val_loss: 0.7136 - val_accuracy: 0.5000\n",
      "Epoch 3/10\n",
      "3/3 [==============================] - 7s 2s/step - loss: 0.6795 - accuracy: 0.7000 - val_loss: 0.8433 - val_accuracy: 0.5000\n",
      "Epoch 4/10\n",
      "3/3 [==============================] - 6s 2s/step - loss: 0.6105 - accuracy: 0.7000 - val_loss: 0.7042 - val_accuracy: 0.5000\n",
      "Epoch 5/10\n",
      "3/3 [==============================] - 6s 2s/step - loss: 0.6487 - accuracy: 0.7000 - val_loss: 0.7197 - val_accuracy: 0.5000\n",
      "Epoch 6/10\n",
      "3/3 [==============================] - 6s 2s/step - loss: 0.6322 - accuracy: 0.7000 - val_loss: 0.7404 - val_accuracy: 0.5000\n",
      "Epoch 7/10\n",
      "3/3 [==============================] - 6s 2s/step - loss: 0.6055 - accuracy: 0.7000 - val_loss: 0.7397 - val_accuracy: 0.5000\n",
      "Epoch 8/10\n",
      "3/3 [==============================] - 7s 2s/step - loss: 0.5950 - accuracy: 0.7000 - val_loss: 0.7228 - val_accuracy: 0.5000\n",
      "Epoch 9/10\n",
      "3/3 [==============================] - 7s 2s/step - loss: 0.5855 - accuracy: 0.7000 - val_loss: 0.7256 - val_accuracy: 0.5000\n",
      "Epoch 10/10\n",
      "3/3 [==============================] - 7s 2s/step - loss: 0.5683 - accuracy: 0.7000 - val_loss: 0.7459 - val_accuracy: 0.5000\n"
     ]
    }
   ],
   "source": [
    "history = model_3.fit(\n",
    "  train_ds,\n",
    "  validation_data=val_ds,\n",
    "  epochs=10\n",
    ")"
   ]
  },
  {
   "cell_type": "markdown",
   "id": "b4448d66-0b9a-46ba-8a5e-697d745d2d52",
   "metadata": {},
   "source": [
    "#### Accuracy stays at 0.7000 after epoch 3 again."
   ]
  },
  {
   "cell_type": "markdown",
   "id": "7012d5e1-7704-422a-b82c-ef1840a206b9",
   "metadata": {},
   "source": [
    "### Try simplified model"
   ]
  },
  {
   "cell_type": "code",
   "execution_count": 71,
   "id": "bcdb205e-1cb2-4efa-a231-0d00331e0f4a",
   "metadata": {},
   "outputs": [],
   "source": [
    "model_4 = tf.keras.Sequential([\n",
    "  tf.keras.layers.Rescaling(1./255, input_shape=(img_height, img_width, 3)),\n",
    "  tf.keras.layers.Conv2D(32, 3, activation='relu'),\n",
    "  tf.keras.layers.MaxPooling2D(),\n",
    "  tf.keras.layers.Flatten(),\n",
    "  tf.keras.layers.Dense(128, activation='relu'),\n",
    "  tf.keras.layers.Dense(num_classes)\n",
    "])"
   ]
  },
  {
   "cell_type": "code",
   "execution_count": 72,
   "id": "1f009594-29f6-40bf-833d-e2c981847d1b",
   "metadata": {},
   "outputs": [],
   "source": [
    "model_4.compile(\n",
    "    optimizer='adam',\n",
    "    loss=tf.losses.SparseCategoricalCrossentropy(from_logits=True),\n",
    "    metrics=['accuracy'])"
   ]
  },
  {
   "cell_type": "code",
   "execution_count": 73,
   "id": "9cecc8e6-a93b-4ffa-abf9-1468b835dd70",
   "metadata": {},
   "outputs": [
    {
     "name": "stdout",
     "output_type": "stream",
     "text": [
      "Model: \"sequential_4\"\n",
      "_________________________________________________________________\n",
      " Layer (type)                Output Shape              Param #   \n",
      "=================================================================\n",
      " rescaling_4 (Rescaling)     (None, 288, 432, 3)       0         \n",
      "                                                                 \n",
      " conv2d_12 (Conv2D)          (None, 286, 430, 32)      896       \n",
      "                                                                 \n",
      " max_pooling2d_12 (MaxPoolin  (None, 143, 215, 32)     0         \n",
      " g2D)                                                            \n",
      "                                                                 \n",
      " flatten_4 (Flatten)         (None, 983840)            0         \n",
      "                                                                 \n",
      " dense_8 (Dense)             (None, 128)               125931648 \n",
      "                                                                 \n",
      " dense_9 (Dense)             (None, 2)                 258       \n",
      "                                                                 \n",
      "=================================================================\n",
      "Total params: 125,932,802\n",
      "Trainable params: 125,932,802\n",
      "Non-trainable params: 0\n",
      "_________________________________________________________________\n"
     ]
    }
   ],
   "source": [
    "model_4.summary()"
   ]
  },
  {
   "cell_type": "code",
   "execution_count": 74,
   "id": "d907a2c3-98ae-4fc0-9cd1-7df3a61ec899",
   "metadata": {},
   "outputs": [
    {
     "name": "stdout",
     "output_type": "stream",
     "text": [
      "Epoch 1/10\n",
      "3/3 [==============================] - 8s 2s/step - loss: 132.4144 - accuracy: 0.5250 - val_loss: 210.8280 - val_accuracy: 0.5000\n",
      "Epoch 2/10\n",
      "3/3 [==============================] - 5s 2s/step - loss: 55.9207 - accuracy: 0.7250 - val_loss: 6.4748 - val_accuracy: 0.5000\n",
      "Epoch 3/10\n",
      "3/3 [==============================] - 6s 2s/step - loss: 5.4557 - accuracy: 0.2750 - val_loss: 0.7891 - val_accuracy: 0.5000\n",
      "Epoch 4/10\n",
      "3/3 [==============================] - 6s 2s/step - loss: 0.6536 - accuracy: 0.4750 - val_loss: 0.6931 - val_accuracy: 0.5000\n",
      "Epoch 5/10\n",
      "3/3 [==============================] - 6s 2s/step - loss: 4.4902 - accuracy: 0.3000 - val_loss: 0.6931 - val_accuracy: 0.5000\n",
      "Epoch 6/10\n",
      "3/3 [==============================] - 6s 2s/step - loss: 0.6930 - accuracy: 0.7000 - val_loss: 0.6931 - val_accuracy: 0.5000\n",
      "Epoch 7/10\n",
      "3/3 [==============================] - 6s 2s/step - loss: 0.6926 - accuracy: 0.7000 - val_loss: 0.6932 - val_accuracy: 0.5000\n",
      "Epoch 8/10\n",
      "3/3 [==============================] - 7s 2s/step - loss: 0.6921 - accuracy: 0.7000 - val_loss: 0.6932 - val_accuracy: 0.5000\n",
      "Epoch 9/10\n",
      "3/3 [==============================] - 6s 2s/step - loss: 0.6916 - accuracy: 0.7000 - val_loss: 0.6932 - val_accuracy: 0.5000\n",
      "Epoch 10/10\n",
      "3/3 [==============================] - 6s 2s/step - loss: 0.6911 - accuracy: 0.7000 - val_loss: 0.6932 - val_accuracy: 0.5000\n"
     ]
    }
   ],
   "source": [
    "history = model_4.fit(\n",
    "    train_ds,\n",
    "    validation_data=val_ds,\n",
    "    epochs=10\n",
    ")"
   ]
  },
  {
   "cell_type": "markdown",
   "id": "5a34de8c-9731-49d6-89d0-edc28e15b296",
   "metadata": {},
   "source": [
    "#### Accuracy stayed at 0.7000 after epoch 5."
   ]
  },
  {
   "cell_type": "code",
   "execution_count": 75,
   "id": "968d4236-e013-451d-8467-3bbbf1004d3c",
   "metadata": {},
   "outputs": [
    {
     "data": {
      "text/plain": [
       "Text(0.5, 1.0, 'Training and Validation Loss')"
      ]
     },
     "execution_count": 75,
     "metadata": {},
     "output_type": "execute_result"
    },
    {
     "data": {
      "image/png": "[encoded data removed]",
      "text/plain": [
       "<Figure size 576x576 with 2 Axes>"
      ]
     },
     "metadata": {
      "needs_background": "light"
     },
     "output_type": "display_data"
    }
   ],
   "source": [
    "acc_4 = model_4.history.history['accuracy']\n",
    "val_acc_4 = model_4.history.history['val_accuracy']\n",
    "\n",
    "loss_4 = model_4.history.history['loss']\n",
    "val_loss_4 = model_4.history.history['val_loss']\n",
    "\n",
    "epochs_range_4 = range(10)\n",
    "\n",
    "plt.figure(figsize=(8, 8))\n",
    "plt.subplot(1, 2, 1)\n",
    "plt.plot(epochs_range_4, acc_4, label='Training Accuracy')\n",
    "plt.plot(epochs_range_4, val_acc_4, label='Validation Accuracy')\n",
    "plt.legend(loc='lower right')\n",
    "plt.title('Training and Validation Accuracy')\n",
    "\n",
    "plt.subplot(1, 2, 2)\n",
    "plt.plot(epochs_range_4, loss_4, label='Training Loss')\n",
    "plt.plot(epochs_range_4, val_loss_4, label='Validation Loss')\n",
    "plt.legend(loc='upper right')\n",
    "plt.title('Training and Validation Loss')"
   ]
  },
  {
   "cell_type": "markdown",
   "id": "ada22995-b913-4892-9b2e-8b18a99c2019",
   "metadata": {},
   "source": [
    "### Try prediction with the last model"
   ]
  },
  {
   "cell_type": "code",
   "execution_count": 77,
   "id": "29eb1db8-4916-426f-8f7c-0cb6aeca857d",
   "metadata": {},
   "outputs": [
    {
     "name": "stdout",
     "output_type": "stream",
     "text": [
      "1/1 [==============================] - 0s 146ms/step\n"
     ]
    }
   ],
   "source": [
    "new_stationary_plot_array_4_1_predictions = model_4.predict(new_stationary_plot_array_1)"
   ]
  },
  {
   "cell_type": "code",
   "execution_count": 78,
   "id": "e6964017-4493-4507-9db0-5823380a3328",
   "metadata": {},
   "outputs": [],
   "source": [
    "new_stationary_plot_array_4_1_score = tf.nn.softmax(new_stationary_plot_array_4_1_predictions[0])"
   ]
  },
  {
   "cell_type": "code",
   "execution_count": 79,
   "id": "14f6ca31-5be3-4eec-bf77-05ac49c7743a",
   "metadata": {},
   "outputs": [
    {
     "data": {
      "text/plain": [
       "<tf.Tensor: shape=(2,), dtype=float32, numpy=array([0.503174, 0.496826], dtype=float32)>"
      ]
     },
     "execution_count": 79,
     "metadata": {},
     "output_type": "execute_result"
    }
   ],
   "source": [
    "new_stationary_plot_array_4_1_score"
   ]
  },
  {
   "cell_type": "code",
   "execution_count": 80,
   "id": "ffe8ea60-b130-4415-89cd-f4168d7e663b",
   "metadata": {},
   "outputs": [
    {
     "data": {
      "text/plain": [
       "'This image most likely belongs to nonstationary with a 50.32 percent confidence.'"
      ]
     },
     "execution_count": 80,
     "metadata": {},
     "output_type": "execute_result"
    }
   ],
   "source": [
    "f\"This image most likely belongs to {class_names[np.argmax(new_stationary_plot_array_4_1_score)]} with a {100 * np.max(new_stationary_plot_array_4_1_score):.2f} percent confidence.\""
   ]
  },
  {
   "cell_type": "markdown",
   "id": "c0f823ac-5960-4c56-a030-f9a9646ffcac",
   "metadata": {},
   "source": [
    "##### Incorrect prediction with about 50% of confidence"
   ]
  },
  {
   "cell_type": "code",
   "execution_count": 81,
   "id": "9e929682-63b7-43b7-9582-39ed2cd98313",
   "metadata": {},
   "outputs": [
    {
     "name": "stdout",
     "output_type": "stream",
     "text": [
      "1/1 [==============================] - 0s 113ms/step\n"
     ]
    }
   ],
   "source": [
    "new_stationary_plot_array_4_2_predictions = model_4.predict(new_stationary_plot_array_2)"
   ]
  },
  {
   "cell_type": "code",
   "execution_count": 82,
   "id": "94f82003-f0fa-4afe-9504-e288be968ec4",
   "metadata": {},
   "outputs": [],
   "source": [
    "new_stationary_plot_array_4_2_score = tf.nn.softmax(new_stationary_plot_array_4_2_predictions[0])"
   ]
  },
  {
   "cell_type": "code",
   "execution_count": 83,
   "id": "259de4f3-49a9-4321-b07c-748dd057152a",
   "metadata": {},
   "outputs": [
    {
     "data": {
      "text/plain": [
       "<tf.Tensor: shape=(2,), dtype=float32, numpy=array([0.503174, 0.496826], dtype=float32)>"
      ]
     },
     "execution_count": 83,
     "metadata": {},
     "output_type": "execute_result"
    }
   ],
   "source": [
    "new_stationary_plot_array_4_2_score"
   ]
  },
  {
   "cell_type": "code",
   "execution_count": 84,
   "id": "b23d3f9f-5543-4415-a90d-20c12e6d0a70",
   "metadata": {},
   "outputs": [
    {
     "data": {
      "text/plain": [
       "'This image most likely belongs to nonstationary with a 50.32 percent confidence.'"
      ]
     },
     "execution_count": 84,
     "metadata": {},
     "output_type": "execute_result"
    }
   ],
   "source": [
    "f\"This image most likely belongs to {class_names[np.argmax(new_stationary_plot_array_4_2_score)]} with a {100 * np.max(new_stationary_plot_array_4_2_score):.2f} percent confidence.\""
   ]
  },
  {
   "cell_type": "markdown",
   "id": "128a850d-2cf1-4be8-a2a0-69a508b339cb",
   "metadata": {},
   "source": [
    "##### Incorrect prediction with about 50% of confidence"
   ]
  },
  {
   "cell_type": "code",
   "execution_count": null,
   "id": "cbc03f2b-ba4d-412b-9a71-436058a273f5",
   "metadata": {},
   "outputs": [],
   "source": []
  }
 ],
 "metadata": {
  "kernelspec": {
   "display_name": "Python 3 (ipykernel)",
   "language": "python",
   "name": "python3"
  },
  "language_info": {
   "codemirror_mode": {
    "name": "ipython",
    "version": 3
   },
   "file_extension": ".py",
   "mimetype": "text/x-python",
   "name": "python",
   "nbconvert_exporter": "python",
   "pygments_lexer": "ipython3",
   "version": "3.10.4"
  }
 },
 "nbformat": 4,
 "nbformat_minor": 5
}
