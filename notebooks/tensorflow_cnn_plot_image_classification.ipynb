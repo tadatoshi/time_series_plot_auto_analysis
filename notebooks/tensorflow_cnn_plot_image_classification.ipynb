{
 "cells": [
  {
   "cell_type": "markdown",
   "id": "23f4e567-e33d-403b-b6a8-b6d97e50ce28",
   "metadata": {},
   "source": [
    "## Trial to use Convolutional Neural Network (with Tensorflow) to detect variogram plot that implies stationary time series"
   ]
  },
  {
   "cell_type": "markdown",
   "id": "e78ee15f-3a38-4bc0-b9f7-57c9e1aa50eb",
   "metadata": {},
   "source": [
    "### Load and preprocess plot images"
   ]
  },
  {
   "cell_type": "markdown",
   "id": "d24d34a3-3ba5-42d7-b77e-3c016ad77c4e",
   "metadata": {},
   "source": [
    "#### Based on tutorial: https://www.tensorflow.org/tutorials/load_data/images"
   ]
  },
  {
   "cell_type": "code",
   "execution_count": 1,
   "id": "eb5f4f5f-53b7-42c9-bb9d-a3a7e913108e",
   "metadata": {},
   "outputs": [],
   "source": [
    "import numpy as np\n",
    "import os\n",
    "import PIL\n",
    "import PIL.Image\n",
    "import tensorflow as tf"
   ]
  },
  {
   "cell_type": "code",
   "execution_count": 25,
   "id": "a5af992a-d4da-439c-9e64-e628f9aaa587",
   "metadata": {},
   "outputs": [],
   "source": [
    "import matplotlib.pyplot as plt"
   ]
  },
  {
   "cell_type": "code",
   "execution_count": 2,
   "id": "4f08fc37-7dbe-4f99-b722-fe7880969cbf",
   "metadata": {},
   "outputs": [
    {
     "data": {
      "text/plain": [
       "'2.9.1'"
      ]
     },
     "execution_count": 2,
     "metadata": {},
     "output_type": "execute_result"
    }
   ],
   "source": [
    "tf.__version__"
   ]
  },
  {
   "cell_type": "markdown",
   "id": "f7496147-19fe-4fe9-bf99-7d582c4185f4",
   "metadata": {},
   "source": [
    "##### In order to get the format of data_dir (from example)"
   ]
  },
  {
   "cell_type": "code",
   "execution_count": 3,
   "id": "af76d4a0-71a7-482a-bfbb-e2b78311fe97",
   "metadata": {},
   "outputs": [],
   "source": [
    "dataset_url = \"https://storage.googleapis.com/download.tensorflow.org/example_images/flower_photos.tgz\"\n",
    "data_dir = tf.keras.utils.get_file(origin=dataset_url,\n",
    "                                   fname='flower_photos',\n",
    "                                   untar=True)"
   ]
  },
  {
   "cell_type": "code",
   "execution_count": 4,
   "id": "d8facd45-4669-44d3-9692-4fffc8e6140c",
   "metadata": {},
   "outputs": [
    {
     "data": {
      "text/plain": [
       "'/Users/tadatoshi/.keras/datasets/flower_photos'"
      ]
     },
     "execution_count": 4,
     "metadata": {},
     "output_type": "execute_result"
    }
   ],
   "source": [
    "data_dir"
   ]
  },
  {
   "cell_type": "markdown",
   "id": "aa6275c2-8475-4255-ad6c-af9c3b5aa488",
   "metadata": {},
   "source": [
    "##### So, it's just a string with absolute path"
   ]
  },
  {
   "cell_type": "code",
   "execution_count": 8,
   "id": "50a28ffe-d15f-4c80-b4df-dab044da946f",
   "metadata": {},
   "outputs": [
    {
     "data": {
      "text/plain": [
       "'/Users/tadatoshi/Documents/development/projects/tadatoshi_solar_research_society/time_series_plot_auto_analysis/notebooks'"
      ]
     },
     "execution_count": 8,
     "metadata": {},
     "output_type": "execute_result"
    }
   ],
   "source": [
    "os.path.realpath('.')"
   ]
  },
  {
   "cell_type": "markdown",
   "id": "2efb44b9-faa6-4be4-9c28-26e422140777",
   "metadata": {},
   "source": [
    "##### It seems that image label is based on the directory name that contains images. \n",
    "##### Thus, I will create two directory, \"stationary\" and \"nonstationary\" and place the corresponding plots under them manually. "
   ]
  },
  {
   "cell_type": "code",
   "execution_count": 11,
   "id": "e4b62168-8ce6-4984-9986-1b74c33a1ac0",
   "metadata": {},
   "outputs": [],
   "source": [
    "plots_data_dir = os.path.abspath(os.path.join(os.path.realpath('.'), '../plots/synthetic_variograms'))"
   ]
  },
  {
   "cell_type": "code",
   "execution_count": 12,
   "id": "e6ae7918-1da7-4d32-997e-666f3a8fed77",
   "metadata": {},
   "outputs": [
    {
     "data": {
      "text/plain": [
       "'/Users/tadatoshi/Documents/development/projects/tadatoshi_solar_research_society/time_series_plot_auto_analysis/plots/synthetic_variograms'"
      ]
     },
     "execution_count": 12,
     "metadata": {},
     "output_type": "execute_result"
    }
   ],
   "source": [
    "plots_data_dir"
   ]
  },
  {
   "cell_type": "markdown",
   "id": "789b3afe-f2ee-4dfd-a5cc-fc9a9c83c624",
   "metadata": {},
   "source": [
    "##### Get image size"
   ]
  },
  {
   "cell_type": "markdown",
   "id": "920062fd-7e89-4cc4-92c4-4df808cfbb2d",
   "metadata": {},
   "source": [
    "##### Based on https://note.nkmk.me/en/python-opencv-pillow-image-size/"
   ]
  },
  {
   "cell_type": "code",
   "execution_count": 14,
   "id": "1e63b797-9ce8-484a-b176-227443a958cd",
   "metadata": {},
   "outputs": [],
   "source": [
    "import cv2"
   ]
  },
  {
   "cell_type": "code",
   "execution_count": 16,
   "id": "792fb524-c114-4d8f-9ef4-69f8953c4da5",
   "metadata": {},
   "outputs": [],
   "source": [
    "image_1 = cv2.imread(os.path.join(plots_data_dir, 'stationary/synthetic_variogram_20220629150855_3.png'))"
   ]
  },
  {
   "cell_type": "code",
   "execution_count": 18,
   "id": "84d39932-bf4d-4f65-bb78-8c4f677bb4de",
   "metadata": {},
   "outputs": [
    {
     "data": {
      "text/plain": [
       "numpy.ndarray"
      ]
     },
     "execution_count": 18,
     "metadata": {},
     "output_type": "execute_result"
    }
   ],
   "source": [
    "type(image_1)"
   ]
  },
  {
   "cell_type": "code",
   "execution_count": 19,
   "id": "bd4c6be0-ab72-4c05-b719-c6acf57211ff",
   "metadata": {},
   "outputs": [
    {
     "data": {
      "text/plain": [
       "(288, 432, 3)"
      ]
     },
     "execution_count": 19,
     "metadata": {},
     "output_type": "execute_result"
    }
   ],
   "source": [
    "image_1.shape"
   ]
  },
  {
   "cell_type": "markdown",
   "id": "e9943929-94a1-4ef6-9bc8-be462a1cef77",
   "metadata": {},
   "source": [
    "### Create a dataset"
   ]
  },
  {
   "cell_type": "code",
   "execution_count": 21,
   "id": "1cca9452-d36e-479b-9b14-ad4c38083ddc",
   "metadata": {},
   "outputs": [],
   "source": [
    "batch_size = 32\n",
    "img_height = 288\n",
    "img_width = 432"
   ]
  },
  {
   "cell_type": "code",
   "execution_count": 22,
   "id": "78bd7796-d74a-4254-b704-dbab87dfb755",
   "metadata": {},
   "outputs": [
    {
     "name": "stdout",
     "output_type": "stream",
     "text": [
      "Found 100 files belonging to 2 classes.\n",
      "Using 80 files for training.\n"
     ]
    },
    {
     "name": "stderr",
     "output_type": "stream",
     "text": [
      "2022-06-29 16:15:19.276262: I tensorflow/core/platform/cpu_feature_guard.cc:193] This TensorFlow binary is optimized with oneAPI Deep Neural Network Library (oneDNN) to use the following CPU instructions in performance-critical operations:  AVX2 FMA\n",
      "To enable them in other operations, rebuild TensorFlow with the appropriate compiler flags.\n"
     ]
    }
   ],
   "source": [
    "train_ds = tf.keras.utils.image_dataset_from_directory(\n",
    "  plots_data_dir,\n",
    "  validation_split=0.2,\n",
    "  subset=\"training\",\n",
    "  seed=123,\n",
    "  image_size=(img_height, img_width),\n",
    "  batch_size=batch_size)"
   ]
  },
  {
   "cell_type": "code",
   "execution_count": 23,
   "id": "deb587e2-a4c9-45cf-99fe-e2a839169222",
   "metadata": {},
   "outputs": [
    {
     "name": "stdout",
     "output_type": "stream",
     "text": [
      "Found 100 files belonging to 2 classes.\n",
      "Using 20 files for validation.\n"
     ]
    }
   ],
   "source": [
    "val_ds = tf.keras.utils.image_dataset_from_directory(\n",
    "  plots_data_dir,\n",
    "  validation_split=0.2,\n",
    "  subset=\"validation\",\n",
    "  seed=123,\n",
    "  image_size=(img_height, img_width),\n",
    "  batch_size=batch_size)"
   ]
  },
  {
   "cell_type": "code",
   "execution_count": 24,
   "id": "9678d7b2-e4eb-4577-a424-d78b5cc5da65",
   "metadata": {},
   "outputs": [
    {
     "data": {
      "text/plain": [
       "['nonstationary', 'stationary']"
      ]
     },
     "execution_count": 24,
     "metadata": {},
     "output_type": "execute_result"
    }
   ],
   "source": [
    "class_names = train_ds.class_names\n",
    "class_names"
   ]
  },
  {
   "cell_type": "markdown",
   "id": "33c2c7b9-a2da-456f-8d61-48e40b4dc002",
   "metadata": {},
   "source": [
    "### Visualize the data"
   ]
  },
  {
   "cell_type": "markdown",
   "id": "64448b5a-233b-42f7-bc6c-a59ac825e807",
   "metadata": {},
   "source": [
    "#### First 9 images from the training dataset"
   ]
  },
  {
   "cell_type": "code",
   "execution_count": 26,
   "id": "37842b41-4d80-43d5-99f0-44b3df98d83c",
   "metadata": {},
   "outputs": [
    {
     "data": {
      "image/png": "[encoded data removed]",
      "text/plain": [
       "<Figure size 720x720 with 9 Axes>"
      ]
     },
     "metadata": {
      "needs_background": "light"
     },
     "output_type": "display_data"
    }
   ],
   "source": [
    "plt.figure(figsize=(10, 10))\n",
    "for images, labels in train_ds.take(1):\n",
    "  for i in range(9):\n",
    "    ax = plt.subplot(3, 3, i + 1)\n",
    "    plt.imshow(images[i].numpy().astype(\"uint8\"))\n",
    "    plt.title(class_names[labels[i]])\n",
    "    plt.axis(\"off\")"
   ]
  },
  {
   "cell_type": "code",
   "execution_count": 27,
   "id": "6d12a01a-34c0-40b3-b42d-299927131ccc",
   "metadata": {},
   "outputs": [
    {
     "name": "stdout",
     "output_type": "stream",
     "text": [
      "(32, 288, 432, 3)\n",
      "(32,)\n"
     ]
    }
   ],
   "source": [
    "for image_batch, labels_batch in train_ds:\n",
    "  print(image_batch.shape)\n",
    "  print(labels_batch.shape)\n",
    "  break"
   ]
  },
  {
   "cell_type": "code",
   "execution_count": null,
   "id": "177e049c-4dd2-41ef-b193-6dee33d0f96c",
   "metadata": {},
   "outputs": [],
   "source": []
  }
 ],
 "metadata": {
  "kernelspec": {
   "display_name": "Python 3 (ipykernel)",
   "language": "python",
   "name": "python3"
  },
  "language_info": {
   "codemirror_mode": {
    "name": "ipython",
    "version": 3
   },
   "file_extension": ".py",
   "mimetype": "text/x-python",
   "name": "python",
   "nbconvert_exporter": "python",
   "pygments_lexer": "ipython3",
   "version": "3.10.4"
  }
 },
 "nbformat": 4,
 "nbformat_minor": 5
}
