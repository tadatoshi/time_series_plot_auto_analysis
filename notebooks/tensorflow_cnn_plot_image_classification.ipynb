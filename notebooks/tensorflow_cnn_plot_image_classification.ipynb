{
 "cells": [
  {
   "cell_type": "markdown",
   "id": "23f4e567-e33d-403b-b6a8-b6d97e50ce28",
   "metadata": {},
   "source": [
    "## Trial to use Convolutional Neural Network (with Tensorflow) to detect variogram plot that implies stationary time series"
   ]
  },
  {
   "cell_type": "code",
   "execution_count": null,
   "id": "98fd9da7-9ba4-4ee1-bb6d-fce8bcf3e404",
   "metadata": {},
   "outputs": [],
   "source": []
  }
 ],
 "metadata": {
  "kernelspec": {
   "display_name": "Python 3 (ipykernel)",
   "language": "python",
   "name": "python3"
  },
  "language_info": {
   "codemirror_mode": {
    "name": "ipython",
    "version": 3
   },
   "file_extension": ".py",
   "mimetype": "text/x-python",
   "name": "python",
   "nbconvert_exporter": "python",
   "pygments_lexer": "ipython3",
   "version": "3.10.4"
  }
 },
 "nbformat": 4,
 "nbformat_minor": 5
}
